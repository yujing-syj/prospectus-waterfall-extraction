{
 "cells": [
  {
   "cell_type": "code",
   "execution_count": null,
   "metadata": {},
   "outputs": [],
   "source": [
    "def MinCrEnhTes(Gr1SubPer,Gr2SubPer,PayDat):\n",
    "    return round(Gr1SubPer(PayDat),6)>4.750000% and round(Gr2SubPer(PayDat),6)>4.750000%\n",
    "def RecPr(CrEvAm,PayDat,TrWrDowAm,TrWrUpAm):\n",
    "    return sum((CrEvAm(PayDat)-TrWrDowAm(PayDat))*((CrEvAm(PayDat)-TrWrDowAm(PayDat))>0),TrWrUpAm(PayDat))\n",
    "def UnsPr(RefObl,principal_prepayments,RepPer,aggregate_unpaid_principal_balance,RefPoRem,Reference_Pool_removals,CrEvRefObl,prepayments,decreases_unpaid_principal_balance,loan_modifications\n",
    ",data_corrections,increases_unpaid_principal_balance):\n",
    "    return RefObl(principal_prepayments,RepPer)\n",
    "            +RefObl(aggregate_unpaid_principal_balance,Reference_Pool_removals =1,RepPer)\n",
    "            -CrEvRefObl(RepPer)-RefObl(prepayments,RefPoRem =1,RepPer,scheduled_principal_collections>0) \n",
    "            +RefObl(decreases_unpaid_principal_balance,loan_modifications=1,data_corrections=1,RepPer)\n",
    "            +RefObl(scheduled_principal_collections,removed_from_the_related_MBS=1,RepPer)\n",
    "            -RefObl(increases_unpaid_principal_balance,loan_modifications=1,data_corrections=1,RepPer)      \n",
    "def DelTest(PayDat,UPB_RefObl,PrLosAm,DisPrBal,):\n",
    "    return sum(DisPrBal(PayDat-i) for i in range(5))/6 < 0.4* SubPer * UPB_RefObl(PayDat-1)-PrLosAm"
   ]
  }
 ],
 "metadata": {
  "kernelspec": {
   "display_name": "Python 3",
   "language": "python",
   "name": "python3"
  },
  "language_info": {
   "codemirror_mode": {
    "name": "ipython",
    "version": 3
   },
   "file_extension": ".py",
   "mimetype": "text/x-python",
   "name": "python",
   "nbconvert_exporter": "python",
   "pygments_lexer": "ipython3",
   "version": "3.7.3"
  }
 },
 "nbformat": 4,
 "nbformat_minor": 2
}
