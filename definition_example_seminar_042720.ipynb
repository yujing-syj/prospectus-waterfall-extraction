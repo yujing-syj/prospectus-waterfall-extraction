{
 "cells": [
  {
   "cell_type": "markdown",
   "metadata": {},
   "source": [
    "# Usual Package Imports"
   ]
  },
  {
   "cell_type": "code",
   "execution_count": 70,
   "metadata": {},
   "outputs": [],
   "source": [
    "first_time = 0"
   ]
  },
  {
   "cell_type": "code",
   "execution_count": 50,
   "metadata": {},
   "outputs": [
    {
     "data": {
      "text/plain": [
       "('2020_04_27', '2.4')"
      ]
     },
     "execution_count": 50,
     "metadata": {},
     "output_type": "execute_result"
    }
   ],
   "source": [
    "import networkx as nx, numpy as np, matplotlib.pyplot as plt, re, yaml,sys, shelve\n",
    "import graphutils as gutils, make_graph_dict as mkgraph\n",
    "from datetime import datetime,date\n",
    "from collections import defaultdict\n",
    "from functools import reduce\n",
    "from importlib import reload\n",
    "today = re.sub('-','_',str(date.today()))\n",
    "today,nx.__version__"
   ]
  },
  {
   "cell_type": "code",
   "execution_count": 35,
   "metadata": {},
   "outputs": [],
   "source": [
    "WRITE = False"
   ]
  },
  {
   "cell_type": "markdown",
   "metadata": {},
   "source": [
    "# Change Directory - Revise for your file system."
   ]
  },
  {
   "cell_type": "code",
   "execution_count": 36,
   "metadata": {},
   "outputs": [],
   "source": [
    "s = %pwd\n",
    "if not re.search('Downloads$',s):\n",
    "    %cd Downloads"
   ]
  },
  {
   "cell_type": "markdown",
   "metadata": {},
   "source": [
    "## Open a shelve and load a graph and a term dictionary"
   ]
  },
  {
   "cell_type": "code",
   "execution_count": 100,
   "metadata": {},
   "outputs": [
    {
     "name": "stdout",
     "output_type": "stream",
     "text": [
      "dict_keys(['graph', 'term_dictionary', 'termdefdict', 'acrodict', 'racrodict', 'formuladict'])\n"
     ]
    }
   ],
   "source": [
    "with shelve.open('definitions') as f:\n",
    "    graphdict = dict([(k,v) for k,v in f.items()])\n",
    "print(graphdict.keys())"
   ]
  },
  {
   "cell_type": "code",
   "execution_count": 106,
   "metadata": {},
   "outputs": [],
   "source": [
    "term = 'Senior Reduction Amount'\n",
    "term0 = 'Tranche Write-up Amount' # a second term\n",
    "g.in_edges(term)\n",
    "baseobjs = [graphdict[k] for k in 'graph term_dictionary termdefdict acrodict racrodict formuladict'.split()]\n",
    "graph,termdict,termdefdict,acrodict,racrodict,formuladict = baseobjs"
   ]
  },
  {
   "cell_type": "code",
   "execution_count": 120,
   "metadata": {},
   "outputs": [
    {
     "name": "stdout",
     "output_type": "stream",
     "text": [
      "SenRedAm\n",
      "\n",
      "-----\n",
      "\n",
      "[(1823, 'Related Definitions The \"Senior Reduction Amount\" with respect to any Payment Date and Loan Group is either: (A) if any of the Minimum Credit Enhancement Test and the Delinquency Test for such Loan Group is not satisfied, the sum of: (i) the Senior Percentage of the Scheduled Principal for such Payment Date and Loan Group; (ii) 100% of the Unscheduled Principal for such Payment Date and Loan Group; and (iii) 100% of the Recovery Principal for such Payment Date and Loan Group; or (B) if the Minimum Credit Enhancement Test and the Delinquency Test for such Loan Group are satisfied, the sum of: (i) the Senior Percentage of the Scheduled Principal for such Payment Date and Loan Group; (ii) the Senior Percentage of the Unscheduled Principal for such Payment Date and Loan Group; and (iii) 100% of the Recovery Principal for such Payment Date and Loan Group.')]\n",
      "\n",
      "-----\n",
      "\n",
      "Senior Reduction Amount: Related Definitions The \"Senior Reduction Amount\" with respect to any Payment Date and Loan Group is either: (A) if any of the Minimum Credit Enhancement Test and the Delinquency Test for such Loan Group is not satisfied, the sum of: (i) the Senior Percentage of the Scheduled Principal for such Payment Date and Loan Group; (ii) 100% of the Unscheduled Principal for such Payment Date and Loan Group; and (iii) 100% of the Recovery Principal for such Payment Date and Loan Group; or (B) if the Minimum Credit Enhancement Test and the Delinquency Test for such Loan Group are satisfied, the sum of: (i) the Senior Percentage of the Scheduled Principal for such Payment Date and Loan Group; (ii) the Senior Percentage of the Unscheduled Principal for such Payment Date and Loan Group; and (iii) 100% of the Recovery Principal for such Payment Date and Loan Group.\n",
      "\tPayment Date: Payments on the Notes will be made by the Global Agent on the twenty-fifth (25th) day of each month (or, if such day is not a Business Day, then on the next succeeding Business Day) beginning in March 2016 (each, a \"Payment Date\").\n",
      "Payments Payments on the Notes will be made by the Global Agent, as paying agent, on the twenty-fifth (25th) day of each month (or, if such day is not a Business Day, then on the next succeeding Business Day), beginning in March 2016 (each, a \"Payment Date\"), to the persons in whose names such Notes are registered as of the close of business on the immediately preceding Business Day in the case of Book-Entry Notes and as of the close of business on the last day of the preceding month of such Payment Date in the case of Definitive Notes (the \"Record Date\").\n",
      "\tRecovery Principal: \"Recovery Principal\" with respect to any Payment Date and Loan Group is the sum of: (i) the excess, if any, of the related Credit Event Amount for such Payment Date and Loan Group, over the related Tranche Write-down Amount for such Payment Date; plus (ii) the related Tranche Write-up Amount for such Payment Date.\n",
      "\tUnscheduled Principal: \"Unscheduled Principal\" with respect to any Payment Date and Loan Group is: 90 (a) all partial principal prepayments on the related Reference Obligations collected during the related Reporting Period, plus (b) the aggregate unpaid principal balance of all related Reference Obligations that became subject to Reference Pool Removals during the related Reporting Period other than (i) Credit Event Reference Obligations and (ii) the portions of any prepayments in full that consist of scheduled principal collections, plus (c) decreases in the unpaid principal balance of all related Reference Obligations as the result of loan modifications or data corrections, plus (d) all scheduled principal collections, if any, for any related Reference Obligations that have been removed from the related MBS, minus (e) increases in the unpaid principal balance of all related Reference Obligations as the result of loan modifications or data corrections.\n",
      "\tScheduled Principal: \"Scheduled Principal\" with respect to any Payment Date and Loan Group is the sum of all monthly scheduled payments of principal due (whether with respect to the related Reporting Period or any prior Reporting Period) on the Reference Obligations in that Loan Group and reported to Fannie Mae and collected by the related servicer during the related Reporting Period.\n",
      "\tMinimum Credit Enhancement Test: The \"Minimum Credit Enhancement Test\" with respect to any Payment Date and Loan Group is a test that will be satisfied if: (i)in the case of Loan Group 1, the Group 1 Subordinate Percentage (solely for purposes of such test, rounded to the sixth decimal place) is greater than or equal to 4.750000%, and (ii)in the case of Loan Group 2, the Group 2 Subordinate Percentage (solely for purposes of such test, rounded to the sixth decimal place) is greater than or equal to 4.750000%.\n",
      "\tDelinquency Test: The \"Delinquency Test\" for any Payment Date and Loan Group is a test that will be satisfied if: (a) the sum of the Distressed Principal Balance for such Loan Group for the current Payment Date and each of the preceding five Payment Dates, divided by six, is less than (b) 40% of the excess of (i) the product of (x) the Subordinate Percentage and (y) the aggregate UPB of the Reference Obligations in such Loan Group as of the preceding Payment Date over (ii) the Principal Loss Amount for such Loan Group for the current Payment Date.\n",
      "\n",
      "-----\n",
      "\n",
      "SenRedAm: [Senior Reduction Amount]: (PayDat, RecPr, UnsPr, SchPr, MinCrEnhTes, DelTes)\n",
      "\tPayDat: [Payment Date]: (GlAg, BusDay, DefNot, BoNot, RecDat)\n",
      "\t\tGlAg: [Global Agent]: (GlAgAgr, WelFarBan, WelFar)\n",
      "\t\tBusDay: [Business Day]: (GlAg)\n",
      "\t\tDefNot: [Definitive Notes]: (BoNot)\n",
      "\t\tBoNot: [Book-Entry Notes]: (NotOwn, ClDat, Cl, Eur)\n",
      "\t\tRecDat: [Record Date]: (PayDat, GlAg, BusDay, DefNot, BoNot)\n",
      "\tRecPr: [Recovery Principal]: (PayDat, CrEvAm, TrWrAm, TrWrAm, CrEv)\n",
      "\t\tPayDat: [Payment Date]: (GlAg, BusDay, DefNot, BoNot, RecDat)\n",
      "\t\tCrEvAm: [Credit Event Amount]: (PayDat, RefObl, Per, CrEvRefObl, CrEvUPB, CrEv, RepPer)\n",
      "\t\tTrWrAm: [Tranche Write-up Amount]: (PayDat, PrLosAm, PrRecAm)\n",
      "\t\tTrWrAm: [Tranche Write-down Amount]: (PayDat, PrLosAm, PrRecAm)\n",
      "\t\tCrEv: [Credit Event]: (PayDat, Per, RepPer, GrTerDat)\n",
      "\tUnsPr: [Unscheduled Principal]: (PayDat, RefObl, Per, CrEvRefObl, RefPo, RefPoRem, CrEv, RepPer)\n",
      "\t\tPayDat: [Payment Date]: (GlAg, BusDay, DefNot, BoNot, RecDat)\n",
      "\t\tRefObl: [Reference Obligations]: (CutDat, RefPo)\n",
      "\t\tPer: [Period]: (WelFarBan, WelFar)\n",
      "\t\tCrEvRefObl: [Credit Event Reference Obligation]: (PayDat, CrEv)\n",
      "\t\tRefPo: [Reference Pool]: (RefObl, CutDat)\n",
      "\t\tRefPoRem: [Reference Pool Removals]: (RefObl, Hol, RefPo, DebAgr, CrEv)\n",
      "\t\tCrEv: [Credit Event]: (PayDat, Per, RepPer, GrTerDat)\n",
      "\t\tRepPer: [Reporting Period]: (PayDat, Per)\n",
      "\tSchPr: [Scheduled Principal]: (PayDat, RefObl, Per, RepPer)\n",
      "\t\tPayDat: [Payment Date]: (GlAg, BusDay, DefNot, BoNot, RecDat)\n",
      "\t\tRefObl: [Reference Obligations]: (CutDat, RefPo)\n",
      "\t\tPer: [Period]: (WelFarBan, WelFar)\n",
      "\t\tRepPer: [Reporting Period]: (PayDat, Per)\n",
      "\tMinCrEnhTes: [Minimum Credit Enhancement Test]: (PayDat, LoGr2, LoGr1, Gr1SubPer, Gr2SubPer)\n",
      "\t\tPayDat: [Payment Date]: (GlAg, BusDay, DefNot, BoNot, RecDat)\n",
      "\t\tLoGr2: [Loan Group 2]: (RefObl, CutDat, Gr2Not)\n",
      "\t\tLoGr1: [Loan Group 1]: (RefObl, Gr1Not, CutDat)\n",
      "\t\tGr1SubPer: [Group 1 Subordinate Percentage]: (PayDat, Gr1SenPer, Gr1Not)\n",
      "\t\tGr2SubPer: [Group 2 Subordinate Percentage]: (PayDat, Gr2SenPer, Gr2Not)\n",
      "\tDelTes: [Delinquency Test]: (PayDat, RefObl, PrLosAm, DisPrBal)\n",
      "\t\tPayDat: [Payment Date]: (GlAg, BusDay, DefNot, BoNot, RecDat)\n",
      "\t\tRefObl: [Reference Obligations]: (CutDat, RefPo)\n",
      "\t\tPrLosAm: [Principal Loss Amount]: (PayDat, ModLosAm, RefObl, Per, CrEvRefObl, CrEv, LiqPr, RepPer, CrEvNetLos, NetLiqPr)\n",
      "\t\tDisPrBal: [Distressed Principal Balance]: (PayDat, RefObl)\n"
     ]
    }
   ],
   "source": [
    "print('\\n\\n-----\\n\\n'.join([str(obj[term]) for obj in (acrodict,termdict,termdefdict,formuladict)]))"
   ]
  },
  {
   "cell_type": "code",
   "execution_count": 121,
   "metadata": {},
   "outputs": [],
   "source": [
    "g = graph.copy()"
   ]
  },
  {
   "cell_type": "code",
   "execution_count": 122,
   "metadata": {},
   "outputs": [
    {
     "data": {
      "text/plain": [
       "dict_keys(['graph_attr_dict_factory', 'node_dict_factory', 'node_attr_dict_factory', 'adjlist_outer_dict_factory', 'adjlist_inner_dict_factory', 'edge_attr_dict_factory', 'graph', '_node', '_adj', '_pred', '_succ'])"
      ]
     },
     "execution_count": 122,
     "metadata": {},
     "output_type": "execute_result"
    }
   ],
   "source": [
    "graph.__dict__.keys()"
   ]
  },
  {
   "cell_type": "code",
   "execution_count": 123,
   "metadata": {},
   "outputs": [
    {
     "data": {
      "text/plain": [
       "[('Payment Date', 'Senior Reduction Amount'),\n",
       " ('Recovery Principal', 'Senior Reduction Amount'),\n",
       " ('Unscheduled Principal', 'Senior Reduction Amount'),\n",
       " ('Scheduled Principal', 'Senior Reduction Amount'),\n",
       " ('Minimum Credit Enhancement Test', 'Senior Reduction Amount'),\n",
       " ('Delinquency Test', 'Senior Reduction Amount')]"
      ]
     },
     "execution_count": 123,
     "metadata": {},
     "output_type": "execute_result"
    }
   ],
   "source": [
    "list(g.in_edges('Senior Reduction Amount'))"
   ]
  },
  {
   "cell_type": "code",
   "execution_count": 124,
   "metadata": {
    "scrolled": true
   },
   "outputs": [
    {
     "data": {
      "text/plain": [
       "[(1823,\n",
       "  'Related Definitions The \"Senior Reduction Amount\" with respect to any Payment Date and Loan Group is either: (A) if any of the Minimum Credit Enhancement Test and the Delinquency Test for such Loan Group is not satisfied, the sum of: (i) the Senior Percentage of the Scheduled Principal for such Payment Date and Loan Group; (ii) 100% of the Unscheduled Principal for such Payment Date and Loan Group; and (iii) 100% of the Recovery Principal for such Payment Date and Loan Group; or (B) if the Minimum Credit Enhancement Test and the Delinquency Test for such Loan Group are satisfied, the sum of: (i) the Senior Percentage of the Scheduled Principal for such Payment Date and Loan Group; (ii) the Senior Percentage of the Unscheduled Principal for such Payment Date and Loan Group; and (iii) 100% of the Recovery Principal for such Payment Date and Loan Group.')]"
      ]
     },
     "execution_count": 124,
     "metadata": {},
     "output_type": "execute_result"
    }
   ],
   "source": [
    "termdict['Credit Event Net Gain']\n",
    "termdict['Senior Reduction Amount']"
   ]
  },
  {
   "cell_type": "markdown",
   "metadata": {},
   "source": [
    "# Eliminate Unecessary Nodes"
   ]
  },
  {
   "cell_type": "code",
   "execution_count": 125,
   "metadata": {},
   "outputs": [
    {
     "data": {
      "text/plain": [
       "['Reference Pool',\n",
       " 'Dealer',\n",
       " 'BofA Merrill',\n",
       " 'Warrant',\n",
       " 'Euroclear',\n",
       " 'Reference Obligations',\n",
       " 'Closing Date',\n",
       " 'Participants',\n",
       " 'Clearstream',\n",
       " 'Group 1 Notes',\n",
       " 'Dealer Agreement',\n",
       " 'Indirect Participants',\n",
       " 'Group Termination Date',\n",
       " 'Note Owners',\n",
       " 'Group 1 Termination Date',\n",
       " 'Wells Fargo',\n",
       " 'Euroclear Participants',\n",
       " 'JP Morgan']"
      ]
     },
     "execution_count": 125,
     "metadata": {},
     "output_type": "execute_result"
    }
   ],
   "source": [
    "with open('nodes2delete.txt') as f: # background on how I selected these on request\n",
    "    xnodes = f.read().split(' ; ')\n",
    "xnodes"
   ]
  },
  {
   "cell_type": "code",
   "execution_count": 126,
   "metadata": {},
   "outputs": [
    {
     "name": "stdout",
     "output_type": "stream",
     "text": [
      "removed node Reference Pool\n",
      "removed node Dealer\n",
      "removed node BofA Merrill\n",
      "removed node Warrant\n",
      "removed node Euroclear\n",
      "removed node Reference Obligations\n",
      "removed node Closing Date\n",
      "removed node Participants\n",
      "removed node Clearstream\n",
      "removed node Group 1 Notes\n",
      "removed node Dealer Agreement\n",
      "removed node Indirect Participants\n",
      "removed node Group Termination Date\n",
      "removed node Note Owners\n",
      "removed node Group 1 Termination Date\n",
      "removed node Wells Fargo\n",
      "removed node Euroclear Participants\n",
      "removed node JP Morgan\n"
     ]
    }
   ],
   "source": [
    "for n in xnodes:\n",
    "    g.remove_node(n)\n",
    "    print('removed node %s' % n)"
   ]
  },
  {
   "cell_type": "markdown",
   "metadata": {},
   "source": [
    "# Draw Graph"
   ]
  },
  {
   "cell_type": "code",
   "execution_count": 127,
   "metadata": {},
   "outputs": [],
   "source": [
    "reload(gutils)\n",
    "GU = gutils.GraphUtils\n",
    "acro = gutils.acro"
   ]
  },
  {
   "cell_type": "code",
   "execution_count": 128,
   "metadata": {},
   "outputs": [
    {
     "data": {
      "text/plain": [
       "[('RCR Notes', 'RCRNot'),\n",
       " ('Exchangeable Notes', 'ExcNot'),\n",
       " ('Dealer', 'De'),\n",
       " ('Additional Information', 'AddInf'),\n",
       " ('Qualified Institutional Buyers', 'QuInsBuy')]"
      ]
     },
     "execution_count": 128,
     "metadata": {},
     "output_type": "execute_result"
    }
   ],
   "source": [
    "acro('',reset = 1) # empty the cache\n",
    "acrodict = dict([k,acro(k)] for k in termdict.keys()) # a dcitionary\n",
    "racrodict = dict(((v,k) for k,v in acrodict.items()))\n",
    "list(acrodict.items())[:5]#,racrodict['RCRNot']"
   ]
  },
  {
   "cell_type": "code",
   "execution_count": 142,
   "metadata": {},
   "outputs": [
    {
     "data": {
      "text/plain": [
       "('SenRedAm', 'MinCrEnhTes', 'RecPr', 'TrWrAm0')"
      ]
     },
     "execution_count": 142,
     "metadata": {},
     "output_type": "execute_result"
    }
   ],
   "source": [
    "sra,mcet,rprp,twua = [acrodict[k] for k in 'Senior Reduction Amount;Minimum Credit Enhancement Test;Recovery Principal;Tranche Write-up Amount'.split(';')]\n",
    "sra,mcet,rprp,twua"
   ]
  },
  {
   "cell_type": "code",
   "execution_count": 143,
   "metadata": {},
   "outputs": [],
   "source": [
    "graphs = {}\n",
    "for k in (sra,mcet,rprp,twua):\n",
    "    graphs[k] = GU.traceback(g,racrodict[k],num=1)"
   ]
  },
  {
   "cell_type": "code",
   "execution_count": 144,
   "metadata": {},
   "outputs": [],
   "source": [
    "def draw_g(g,sz = (15,10)):\n",
    "    plt.figure(1,figsize=sz)\n",
    "    nx.draw_networkx(g)\n",
    "    plt.show()"
   ]
  },
  {
   "cell_type": "code",
   "execution_count": 145,
   "metadata": {},
   "outputs": [
    {
     "data": {
      "image/png": "[encoded data removed]",
      "text/plain": [
       "<Figure size 1080x720 with 1 Axes>"
      ]
     },
     "metadata": {},
     "output_type": "display_data"
    }
   ],
   "source": [
    "draw_g(graphs[sra])"
   ]
  },
  {
   "cell_type": "code",
   "execution_count": 146,
   "metadata": {},
   "outputs": [
    {
     "data": {
      "image/png": "[encoded data removed]",
      "text/plain": [
       "<Figure size 1080x720 with 1 Axes>"
      ]
     },
     "metadata": {},
     "output_type": "display_data"
    }
   ],
   "source": [
    "draw_g(graphs[mcet])"
   ]
  },
  {
   "cell_type": "code",
   "execution_count": 147,
   "metadata": {},
   "outputs": [
    {
     "data": {
      "image/png": "[encoded data removed]",
      "text/plain": [
       "<Figure size 1080x720 with 1 Axes>"
      ]
     },
     "metadata": {},
     "output_type": "display_data"
    }
   ],
   "source": [
    "draw_g(graphs[rprp])"
   ]
  },
  {
   "cell_type": "code",
   "execution_count": 148,
   "metadata": {},
   "outputs": [
    {
     "data": {
      "image/png": "[encoded data removed]",
      "text/plain": [
       "<Figure size 1080x720 with 1 Axes>"
      ]
     },
     "metadata": {},
     "output_type": "display_data"
    }
   ],
   "source": [
    "draw_g(graphs[twua])"
   ]
  },
  {
   "cell_type": "code",
   "execution_count": 99,
   "metadata": {},
   "outputs": [
    {
     "data": {
      "text/plain": [
       "([(1839,\n",
       "   'The \"Minimum Credit Enhancement Test\" with respect to any Payment Date and Loan Group is a test that will be satisfied if: (i)in the case of Loan Group 1, the Group 1 Subordinate Percentage (solely for purposes of such test, rounded to the sixth decimal place) is greater than or equal to 4.750000%, and (ii)in the case of Loan Group 2, the Group 2 Subordinate Percentage (solely for purposes of such test, rounded to the sixth decimal place) is greater than or equal to 4.750000%.')],\n",
       " [(1827,\n",
       "   'The \"Group 1 Subordinate Percentage\" with respect to any Payment Date and the Group 1 Notes is the percentage equal to 100% minus the Group 1 Senior Percentage for such Payment Date.')],\n",
       " [(1825,\n",
       "   'The \"Group 1 Senior Percentage\" with respect to any Payment Date and the Group 1 Notes, is the percentage equivalent of a fraction, the numerator of which is the Class Notional Amount of the Class 1A-H Reference Tranche immediately prior to such Payment Date and the denominator of which is the aggregate unpaid principal balance of the Reference Obligations in Loan Group 1 at the end of the previous Reporting Period.')])"
      ]
     },
     "execution_count": 99,
     "metadata": {},
     "output_type": "execute_result"
    }
   ],
   "source": [
    "termdict['Minimum Credit Enhancement Test'],termdict['Group 1 Subordinate Percentage'],termdict['Group 1 Senior Percentage']"
   ]
  },
  {
   "cell_type": "markdown",
   "metadata": {},
   "source": [
    "## Test the Graph"
   ]
  },
  {
   "cell_type": "code",
   "execution_count": 134,
   "metadata": {},
   "outputs": [
    {
     "data": {
      "text/plain": [
       "InEdgeDataView([('Payment Date', 'Senior Reduction Amount'), ('Recovery Principal', 'Senior Reduction Amount'), ('Unscheduled Principal', 'Senior Reduction Amount'), ('Scheduled Principal', 'Senior Reduction Amount'), ('Minimum Credit Enhancement Test', 'Senior Reduction Amount'), ('Delinquency Test', 'Senior Reduction Amount')])"
      ]
     },
     "execution_count": 134,
     "metadata": {},
     "output_type": "execute_result"
    }
   ],
   "source": [
    "term = 'Senior Reduction Amount'\n",
    "term0 = 'Tranche Write-up Amount' # a second term\n",
    "g.in_edges(term)"
   ]
  },
  {
   "cell_type": "code",
   "execution_count": 135,
   "metadata": {},
   "outputs": [
    {
     "data": {
      "text/plain": [
       "[('Payment Date',\n",
       "  [(555,\n",
       "    'Payments on the Notes will be made by the Global Agent on the twenty-fifth (25th) day of each month (or, if such day is not a Business Day, then on the next succeeding Business Day) beginning in March 2016 (each, a \"Payment Date\").'),\n",
       "   (1712,\n",
       "    'Payments Payments on the Notes will be made by the Global Agent, as paying agent, on the twenty-fifth (25th) day of each month (or, if such day is not a Business Day, then on the next succeeding Business Day), beginning in March 2016 (each, a \"Payment Date\"), to the persons in whose names such Notes are registered as of the close of business on the immediately preceding Business Day in the case of Book-Entry Notes and as of the close of business on the last day of the preceding month of such Payment Date in the case of Definitive Notes (the \"Record Date\").')]),\n",
       " ('Recovery Principal',\n",
       "  [(1836,\n",
       "    '\"Recovery Principal\" with respect to any Payment Date and Loan Group is the sum of: (i) the excess, if any, of the related Credit Event Amount for such Payment Date and Loan Group, over the related Tranche Write-down Amount for such Payment Date; plus (ii) the related Tranche Write-up Amount for such Payment Date.')]),\n",
       " ('Unscheduled Principal',\n",
       "  [(1832,\n",
       "    '\"Unscheduled Principal\" with respect to any Payment Date and Loan Group is: 90 (a) all partial principal prepayments on the related Reference Obligations collected during the related Reporting Period, plus (b) the aggregate unpaid principal balance of all related Reference Obligations that became subject to Reference Pool Removals during the related Reporting Period other than (i) Credit Event Reference Obligations and (ii) the portions of any prepayments in full that consist of scheduled principal collections, plus (c) decreases in the unpaid principal balance of all related Reference Obligations as the result of loan modifications or data corrections, plus (d) all scheduled principal collections, if any, for any related Reference Obligations that have been removed from the related MBS, minus (e) increases in the unpaid principal balance of all related Reference Obligations as the result of loan modifications or data corrections.')]),\n",
       " ('Scheduled Principal',\n",
       "  [(1831,\n",
       "    '\"Scheduled Principal\" with respect to any Payment Date and Loan Group is the sum of all monthly scheduled payments of principal due (whether with respect to the related Reporting Period or any prior Reporting Period) on the Reference Obligations in that Loan Group and reported to Fannie Mae and collected by the related servicer during the related Reporting Period.')]),\n",
       " ('Minimum Credit Enhancement Test',\n",
       "  [(1839,\n",
       "    'The \"Minimum Credit Enhancement Test\" with respect to any Payment Date and Loan Group is a test that will be satisfied if: (i)in the case of Loan Group 1, the Group 1 Subordinate Percentage (solely for purposes of such test, rounded to the sixth decimal place) is greater than or equal to 4.750000%, and (ii)in the case of Loan Group 2, the Group 2 Subordinate Percentage (solely for purposes of such test, rounded to the sixth decimal place) is greater than or equal to 4.750000%.')]),\n",
       " ('Delinquency Test',\n",
       "  [(1837,\n",
       "    'The \"Delinquency Test\" for any Payment Date and Loan Group is a test that will be satisfied if: (a) the sum of the Distressed Principal Balance for such Loan Group for the current Payment Date and each of the preceding five Payment Dates, divided by six, is less than (b) 40% of the excess of (i) the product of (x) the Subordinate Percentage and (y) the aggregate UPB of the Reference Obligations in such Loan Group as of the preceding Payment Date over (ii) the Principal Loss Amount for such Loan Group for the current Payment Date.')])]"
      ]
     },
     "execution_count": 135,
     "metadata": {},
     "output_type": "execute_result"
    }
   ],
   "source": [
    "[(edge[0],termdict[edge[0]]) for edge in g.in_edges('Senior Reduction Amount')]"
   ]
  },
  {
   "cell_type": "markdown",
   "metadata": {},
   "source": [
    "# Import our Custom Code for Tracing Back Definitions through other Definitions"
   ]
  },
  {
   "cell_type": "code",
   "execution_count": 16,
   "metadata": {
    "collapsed": true
   },
   "outputs": [],
   "source": [
    "import graphutils\n",
    "reload(graphutils)\n",
    "gutils = graphutils.GraphUtils"
   ]
  },
  {
   "cell_type": "markdown",
   "metadata": {},
   "source": [
    "## Test Traceback"
   ]
  },
  {
   "cell_type": "code",
   "execution_count": 17,
   "metadata": {},
   "outputs": [
    {
     "name": "stdout",
     "output_type": "stream",
     "text": [
      "66 761 3\n"
     ]
    },
    {
     "data": {
      "text/plain": [
       "([('Principal Recovery Amount', 'Tranche Write-up Amount'),\n",
       "  ('Payment Date', 'Tranche Write-up Amount'),\n",
       "  ('Principal Loss Amount', 'Tranche Write-up Amount')],\n",
       " [(1876,\n",
       "   'Related Definitions The \"Tranche Write-up Amount\" with respect to any Payment Date and Loan Group is the excess, if any, of the Principal Recovery Amount for such Payment Date and Loan Group over the Principal Loss Amount for such Payment Date and Loan Group.')])"
      ]
     },
     "execution_count": 17,
     "metadata": {},
     "output_type": "execute_result"
    }
   ],
   "source": [
    "ar = []\n",
    "lst = lambda x: ar.append(x)\n",
    "lg = gutils.traceback(g.copy(),term0,num=5,it=0,f=lst)\n",
    "print(len(lg.edges()),len(g.edges()),len(g.in_edges('Tranche Write-up Amount')))\n",
    "#lg = gutils.traceback(g.copy(),'Senior Reduction Amount',num=3)\n",
    "#draw_g(lg)\n",
    "g.in_edges(term0),termdict[term0]"
   ]
  },
  {
   "cell_type": "code",
   "execution_count": 18,
   "metadata": {},
   "outputs": [
    {
     "data": {
      "text/plain": [
       "[(0, 'Payment Date'),\n",
       " (0, 'Principal Loss Amount'),\n",
       " (0, 'Principal Recovery Amount'),\n",
       " (1, 'Book-Entry Notes'),\n",
       " (1, 'Business Day'),\n",
       " (1, 'Credit Event'),\n",
       " (1, 'Credit Event Net Gain'),\n",
       " (1, 'Credit Event Net Loss'),\n",
       " (1, 'Credit Event Reference Obligation'),\n",
       " (1, 'Definitive Notes'),\n",
       " (1, 'Liquidation Proceeds'),\n",
       " (1, 'Modification Loss Amount'),\n",
       " (1, 'Net Liquidation Proceeds'),\n",
       " (1, 'Period'),\n",
       " (1, 'Record Date'),\n",
       " (1, 'Reference Obligations'),\n",
       " (1, 'Reporting Period'),\n",
       " (1, 'Warrant'),\n",
       " (2, 'Clearstream'),\n",
       " (2, 'Credit Event UPB'),\n",
       " (2, 'Current Accrual Rate'),\n",
       " (2, 'Cut-off Date'),\n",
       " (2, 'Euroclear'),\n",
       " (2, 'Group Termination Date'),\n",
       " (2, 'Mortgage Insurance Credit Amount'),\n",
       " (2, 'Note Owners'),\n",
       " (2, 'Reference Pool'),\n",
       " (2, 'Treasury'),\n",
       " (2, 'Wells Fargo'),\n",
       " (2, 'Wells Fargo Bank'),\n",
       " (3, 'Barclays'),\n",
       " (3, 'BofA Merrill'),\n",
       " (3, 'Citigroup'),\n",
       " (3, 'Clearstream International'),\n",
       " (3, 'Credit Suisse'),\n",
       " (3, 'Dealer'),\n",
       " (3, 'Dealer Agreement'),\n",
       " (3, 'Dealers'),\n",
       " (3, 'Euroclear Participants'),\n",
       " (3, 'Global Agency Agreement'),\n",
       " (3, 'Global Agent'),\n",
       " (3, 'Group 1 Notes'),\n",
       " (3, 'Group 1 Termination Date'),\n",
       " (3, 'Group 2 Termination Date'),\n",
       " (3, 'Indirect Participants'),\n",
       " (3, 'JP Morgan'),\n",
       " (3, 'Modification Event'),\n",
       " (3, 'Participants'),\n",
       " (3, 'Projected Recovery Amount'),\n",
       " (4, 'Class Coupon'),\n",
       " (4, 'Class Principal Balance'),\n",
       " (4, 'Closing Date'),\n",
       " (4, 'Early Redemption Option'),\n",
       " (4, 'Exchangeable Notes'),\n",
       " (4, 'Group 1 Class'),\n",
       " (4, 'Group 1 Classes'),\n",
       " (4, 'Group 1 Offered Notes'),\n",
       " (4, 'Group 2 Class'),\n",
       " (4, 'Group 2 Classes'),\n",
       " (4, 'Group 2 Notes'),\n",
       " (4, 'Maturity Date'),\n",
       " (4, 'Offered Notes'),\n",
       " (4, 'Original Accrual Rate'),\n",
       " (4, 'RCR Notes'),\n",
       " (4, 'Recovery Election Date'),\n",
       " (4, 'Tranche Write-down Amount')]"
      ]
     },
     "execution_count": 18,
     "metadata": {},
     "output_type": "execute_result"
    }
   ],
   "source": [
    "ar.sort()\n",
    "ar"
   ]
  },
  {
   "cell_type": "code",
   "execution_count": 19,
   "metadata": {},
   "outputs": [
    {
     "data": {
      "text/plain": [
       "('Tranche Write-up Amount',\n",
       " [(1876,\n",
       "   'Related Definitions The \"Tranche Write-up Amount\" with respect to any Payment Date and Loan Group is the excess, if any, of the Principal Recovery Amount for such Payment Date and Loan Group over the Principal Loss Amount for such Payment Date and Loan Group.')])"
      ]
     },
     "execution_count": 19,
     "metadata": {},
     "output_type": "execute_result"
    }
   ],
   "source": [
    "term0,termdict[term0]"
   ]
  },
  {
   "cell_type": "markdown",
   "metadata": {},
   "source": [
    "# A sketch of \"memoizing\""
   ]
  },
  {
   "cell_type": "code",
   "execution_count": 20,
   "metadata": {},
   "outputs": [
    {
     "name": "stdout",
     "output_type": "stream",
     "text": [
      "found it\n"
     ]
    },
    {
     "data": {
      "text/plain": [
       "6"
      ]
     },
     "execution_count": 20,
     "metadata": {},
     "output_type": "execute_result"
    }
   ],
   "source": [
    "def memo(f):\n",
    "    \"\"\"Decorator that caches the return value for each call to f(args).\n",
    "    Then when called again with same args, we can just look it up.\"\"\"\n",
    "    cache = {}\n",
    "    def _f(*args):\n",
    "        try:\n",
    "            if args in cache: print(\"found it\")\n",
    "            return cache[args]\n",
    "        except KeyError:\n",
    "            cache[args] = result = f(*args)\n",
    "            return result\n",
    "        except TypeError:\n",
    "            # some element of args can't be a dict key\n",
    "            return f(args)\n",
    "    return _f\n",
    "@memo # f = memo(f) = _f\n",
    "def f(x):return x*2\n",
    "f(3)\n",
    "f(3)"
   ]
  },
  {
   "cell_type": "markdown",
   "metadata": {},
   "source": [
    "# Converting definition lists to readable text and to formulae"
   ]
  },
  {
   "cell_type": "markdown",
   "metadata": {},
   "source": [
    "# A General Recursion with an (Ac)Cumulator"
   ]
  },
  {
   "cell_type": "code",
   "execution_count": 21,
   "metadata": {},
   "outputs": [
    {
     "name": "stdout",
     "output_type": "stream",
     "text": [
      "[]\n",
      "[0, 1, 2, 3]\n",
      "[0, 1, 2, 3, 0, 1, 2, 3]\n",
      "[0, 1, 2, 3, 0, 1, 2, 3]\n",
      "[0, 1, 2, 3]\n"
     ]
    }
   ],
   "source": [
    "# decorate a function (see below) with an (ac)cumulator\n",
    "# control the number of recursion with limit = num\n",
    "# include a function newargs_ for generating new arguments from the old args\n",
    "def decf(f,newargs_,cum = None,num=2, it = 0):\n",
    "    cum = cum or [] # cum is the accumulation of the recursion\n",
    "    def f_(*args,num=num,it=it):\n",
    "        #print('args',args) # DEBUG\n",
    "        cum.append(f(*args)) # cache the result of f applied to the arguments\n",
    "        if it <= num: # recurse if under the limit\n",
    "            newargs = newargs_(*args)\n",
    "            for args in newargs:\n",
    "                f_(*args,num=num,it=it+1)\n",
    "    return f_,cum\n",
    "\n",
    "# A toy example with trivial functions as arguments\n",
    "# We need to have access to the cumulator so the decorator returns it \n",
    "func,cum = decf(lambda x: x, lambda x: ([x+1],))\n",
    "print(cum) # empty\n",
    "func(0)\n",
    "print(cum )\n",
    "func(0)\n",
    "print(cum)\n",
    "# the accumulator is persistent\n",
    "print(cum) # accumulator\n",
    "func,cum = decf(lambda x: x, lambda x: ([x+1],))\n",
    "# the (only) way to get a new accumulator\n",
    "func(0)\n",
    "print(cum)"
   ]
  },
  {
   "cell_type": "code",
   "execution_count": 22,
   "metadata": {
    "collapsed": true
   },
   "outputs": [],
   "source": [
    "dlm = (': ',', ','\\n') # various delimiters for use in string formation"
   ]
  },
  {
   "cell_type": "markdown",
   "metadata": {},
   "source": [
    "## Turn a definition into a string"
   ]
  },
  {
   "cell_type": "code",
   "execution_count": 23,
   "metadata": {},
   "outputs": [
    {
     "data": {
      "text/plain": [
       "'Tranche Write-up Amount: Related Definitions The \"Tranche Write-up Amount\" with respect to any Payment Date and Loan Group is the excess, if any, of the Principal Recovery Amount for such Payment Date and Loan Group over the Principal Loss Amount for such Payment Date and Loan Group.'"
      ]
     },
     "execution_count": 23,
     "metadata": {},
     "output_type": "execute_result"
    }
   ],
   "source": [
    "get_def = lambda term,g=g,dct = termdict: dlm[0].join((term, dlm[-1].join((tpl[1] for tpl in dct[term]))))\n",
    "get_def(term0)"
   ]
  },
  {
   "cell_type": "code",
   "execution_count": 39,
   "metadata": {},
   "outputs": [
    {
     "data": {
      "text/plain": [
       "'Tranche Write-up Amount: Related Definitions The \"Tranche Write-up Amount\" with respect to any Payment Date and Loan Group is the excess, if any, of the Principal Recovery Amount for such Payment Date and Loan Group over the Principal Loss Amount for such Payment Date and Loan Group.'"
      ]
     },
     "execution_count": 39,
     "metadata": {},
     "output_type": "execute_result"
    }
   ],
   "source": [
    "get_def('Tranche Write-up Amount')"
   ]
  },
  {
   "cell_type": "markdown",
   "metadata": {},
   "source": [
    "## Indent the definition string for readability"
   ]
  },
  {
   "cell_type": "code",
   "execution_count": 47,
   "metadata": {},
   "outputs": [
    {
     "data": {
      "text/plain": [
       "'\\t\\tTranche Write-up Amount: Related Definitions The \"Tranche Write-up Amount\" with respect to any Payment Date and Loan Group is the excess, if any, of the Principal Recovery Amount for such Payment Date and Loan Group over the Principal Loss Amount for such Payment Date and Loan Group.'"
      ]
     },
     "execution_count": 47,
     "metadata": {},
     "output_type": "execute_result"
    }
   ],
   "source": [
    "# indent based on level\n",
    "get_def_indent = lambda x,indent=0: '\\t'*indent + get_def(x)\n",
    "get_def_indent(term0,2)"
   ]
  },
  {
   "cell_type": "markdown",
   "metadata": {},
   "source": [
    "## Using the recursion to write an indented dictionary of terms"
   ]
  },
  {
   "cell_type": "code",
   "execution_count": 41,
   "metadata": {},
   "outputs": [
    {
     "name": "stdout",
     "output_type": "stream",
     "text": [
      "[]\n"
     ]
    },
    {
     "data": {
      "text/plain": [
       "['Senior Reduction Amount: Related Definitions The \"Senior Reduction Amount\" with respect to any Payment Date and Loan Group is either: (A) if any of the Minimum Credit Enhancement Test and the Delinquency Test for such Loan Group is not satisfied, the sum of: (i) the Senior Percentage of the Scheduled Principal for such Payment Date and Loan Group; (ii) 100% of the Unscheduled Principal for such Payment Date and Loan Group; and (iii) 100% of the Recovery Principal for such Payment Date and Loan Group; or (B) if the Minimum Credit Enhancement Test and the Delinquency Test for such Loan Group are satisfied, the sum of: (i) the Senior Percentage of the Scheduled Principal for such Payment Date and Loan Group; (ii) the Senior Percentage of the Unscheduled Principal for such Payment Date and Loan Group; and (iii) 100% of the Recovery Principal for such Payment Date and Loan Group.',\n",
       " '\\tDelinquency Test: The \"Delinquency Test\" for any Payment Date and Loan Group is a test that will be satisfied if: (a) the sum of the Distressed Principal Balance for such Loan Group for the current Payment Date and each of the preceding five Payment Dates, divided by six, is less than (b) 40% of the excess of (i) the product of (x) the Subordinate Percentage and (y) the aggregate UPB of the Reference Obligations in such Loan Group as of the preceding Payment Date over (ii) the Principal Loss Amount for such Loan Group for the current Payment Date.',\n",
       " '\\tScheduled Principal: \"Scheduled Principal\" with respect to any Payment Date and Loan Group is the sum of all monthly scheduled payments of principal due (whether with respect to the related Reporting Period or any prior Reporting Period) on the Reference Obligations in that Loan Group and reported to Fannie Mae and collected by the related servicer during the related Reporting Period.',\n",
       " '\\tUnscheduled Principal: \"Unscheduled Principal\" with respect to any Payment Date and Loan Group is: 90 (a) all partial principal prepayments on the related Reference Obligations collected during the related Reporting Period, plus (b) the aggregate unpaid principal balance of all related Reference Obligations that became subject to Reference Pool Removals during the related Reporting Period other than (i) Credit Event Reference Obligations and (ii) the portions of any prepayments in full that consist of scheduled principal collections, plus (c) decreases in the unpaid principal balance of all related Reference Obligations as the result of loan modifications or data corrections, plus (d) all scheduled principal collections, if any, for any related Reference Obligations that have been removed from the related MBS, minus (e) increases in the unpaid principal balance of all related Reference Obligations as the result of loan modifications or data corrections.',\n",
       " '\\tPayment Date: Payments on the Notes will be made by the Global Agent on the twenty-fifth (25th) day of each month (or, if such day is not a Business Day, then on the next succeeding Business Day) beginning in March 2016 (each, a \"Payment Date\").\\nPayments Payments on the Notes will be made by the Global Agent, as paying agent, on the twenty-fifth (25th) day of each month (or, if such day is not a Business Day, then on the next succeeding Business Day), beginning in March 2016 (each, a \"Payment Date\"), to the persons in whose names such Notes are registered as of the close of business on the immediately preceding Business Day in the case of Book-Entry Notes and as of the close of business on the last day of the preceding month of such Payment Date in the case of Definitive Notes (the \"Record Date\").']"
      ]
     },
     "execution_count": 41,
     "metadata": {},
     "output_type": "execute_result"
    }
   ],
   "source": [
    "func,cum = decf(get_def_indent,lambda term,it: ([indedge[0],it+1]\n",
    "                for indedge in g.in_edges(term)))\n",
    "print(cum) # empty cumulator\n",
    "func(term, 0,num = 0) # fill it\n",
    "cum[:5]"
   ]
  },
  {
   "cell_type": "code",
   "execution_count": 42,
   "metadata": {},
   "outputs": [
    {
     "name": "stdout",
     "output_type": "stream",
     "text": [
      "[]\n"
     ]
    },
    {
     "data": {
      "text/plain": [
       "['Tranche Write-up Amount: Related Definitions The \"Tranche Write-up Amount\" with respect to any Payment Date and Loan Group is the excess, if any, of the Principal Recovery Amount for such Payment Date and Loan Group over the Principal Loss Amount for such Payment Date and Loan Group.',\n",
       " '\\tPrincipal Recovery Amount: The \"Principal Recovery Amount\" with respect to any Payment Date and Loan Group is the sum of: (a) the aggregate amount of Credit Event Net Losses for all Reversed Credit Event Reference Obligations in such Loan Group for the related Reporting Period; (b) subsequent recoveries on any Reference Obligation in such Loan Group that became a Credit Event Reference Obligation on a prior Payment Date and with respect to which Net Liquidation Proceeds have already been determined; (c) the aggregate amount of the Credit Event Net Gains of all Credit Event Reference Obligations in such Loan Group for the related Reporting Period; and (d) the aggregate amount of Rep and Warranty Settlement Amounts for the Reporting Period for such Payment Date and Credit Event Reference Obligations in such Loan Group.',\n",
       " '\\t\\tCredit Event Net Gain: The \"Credit Event Net Gain\" with respect to any Credit Event Reference Obligation is an amount equal to the excess, if any, of: (a) the related Net Liquidation Proceeds over (b) the sum of: (i) the related Credit Event UPB; (ii) the total amount of prior principal forgiveness modifications, if any, on the related Credit Event Reference Obligation; and (iii) delinquent accrued interest thereon, calculated at the related Current Accrual Rate from the related last paid interest date through the date such Reference Obligation has been reported as a Credit Event Reference Obligation.',\n",
       " '\\t\\t\\tCredit Event Reference Obligation: A \"Credit Event Reference Obligation\" with respect to any Payment Date is any Reference Obligation with respect to which a Credit Event has occurred.',\n",
       " '\\t\\t\\tCredit Event UPB: The \"Credit Event UPB\" with respect to any Credit Event Reference Obligation is the unpaid principal balance thereof as of the end of the Reporting Period related to the Payment Date that it became a Credit Event Reference Obligation.']"
      ]
     },
     "execution_count": 42,
     "metadata": {},
     "output_type": "execute_result"
    }
   ],
   "source": [
    "# using the recursion \n",
    "func,cum = decf(get_def_indent,lambda term,it: ([indedge[0],it+1]\n",
    "                for indedge in g.in_edges(term)))\n",
    "print(cum)\n",
    "func(term0,0)\n",
    "cum[:5]"
   ]
  },
  {
   "cell_type": "code",
   "execution_count": 25,
   "metadata": {
    "collapsed": true
   },
   "outputs": [],
   "source": [
    "if 0 or WRITE: # Writing a term dictionary with indented definitions: execute by replace 0 with 1\n",
    "    with open('term_dict.txt','w') as f:\n",
    "        for line in cum: f.write(line+\"\\n\")"
   ]
  },
  {
   "cell_type": "markdown",
   "metadata": {
    "collapsed": true
   },
   "source": [
    "## Using the recursion to write a series of indented dependent formulae"
   ]
  },
  {
   "cell_type": "code",
   "execution_count": 26,
   "metadata": {},
   "outputs": [
    {
     "data": {
      "text/plain": [
       "[(1876,\n",
       "  'Related Definitions The \"Tranche Write-up Amount\" with respect to any Payment Date and Loan Group is the excess, if any, of the Principal Recovery Amount for such Payment Date and Loan Group over the Principal Loss Amount for such Payment Date and Loan Group.')]"
      ]
     },
     "execution_count": 26,
     "metadata": {},
     "output_type": "execute_result"
    }
   ],
   "source": [
    "termdict[term0]"
   ]
  },
  {
   "cell_type": "code",
   "execution_count": 27,
   "metadata": {},
   "outputs": [
    {
     "data": {
      "text/plain": [
       "'TrWrAm: [Tranche Write-up Amount]: (PrRecAm, PayDat, PrLosAm)\\n'"
      ]
     },
     "execution_count": 27,
     "metadata": {},
     "output_type": "execute_result"
    }
   ],
   "source": [
    "#How to make a tentative formula, for editing and encoding\n",
    "get_formula = lambda term,line=False,g=g: dlm[0].join((gutils.acro(term),'['+term+']')) + dlm[0] +'('+ dlm[1].join((gutils.acro(edge[0]) \n",
    "                                                        for edge in g.in_edges(term)) )+')'+ (\"\\n\" if line else '')\n",
    "get_formula(term0,1)"
   ]
  },
  {
   "cell_type": "markdown",
   "metadata": {},
   "source": [
    "TrWrAm: [Tranche Write-up Amount]: max(PrRecAm - PrLosAm,0)\n",
    "\n"
   ]
  },
  {
   "cell_type": "markdown",
   "metadata": {},
   "source": [
    "## How the formula works\n",
    "\n",
    "TrWrAm: [Tranche Write-up Amount]: max (PrRecAm - PrLosAm,0)\n",
    "\n",
    "Suppose PrRecAm, PrLosAm = 10,5\n",
    "\n",
    "Then TrWrAm = max( 10 - 5,0) = 5\n",
    "\n",
    "But suppose  PrRecAm, PrLosAm = 5,10\n",
    "\n",
    "Then TrWrAm = max(5 - 10 ,0) = 0"
   ]
  },
  {
   "cell_type": "code",
   "execution_count": 28,
   "metadata": {},
   "outputs": [
    {
     "data": {
      "text/plain": [
       "'\\t\\tTrWrAm: [Tranche Write-up Amount]: (PrRecAm, PayDat, PrLosAm)'"
      ]
     },
     "execution_count": 28,
     "metadata": {},
     "output_type": "execute_result"
    }
   ],
   "source": [
    "# for easier reading, we indent\n",
    "get_formula_indent = lambda x,indent=0: '\\t'*indent + get_formula(x)\n",
    "get_formula_indent(term0,2)"
   ]
  },
  {
   "cell_type": "code",
   "execution_count": 29,
   "metadata": {
    "collapsed": true
   },
   "outputs": [],
   "source": [
    "# set up temporary formulae for all definitions needed for term = Tranche Write-up Amount\n",
    "func,cum_form = decf(get_formula_indent,lambda term,it: ([indedge[0],it+1]\n",
    "                for indedge in g.in_edges(term)))\n",
    "func(term0,0)"
   ]
  },
  {
   "cell_type": "code",
   "execution_count": 30,
   "metadata": {
    "collapsed": true
   },
   "outputs": [],
   "source": [
    "# write a formula dictionary: execute by replace 0 with 1\n",
    "if 0:\n",
    "    with open('formula_dict.txt','w') as f:\n",
    "        for line in cum_form: f.write(line+\"\\n\")"
   ]
  },
  {
   "cell_type": "markdown",
   "metadata": {},
   "source": [
    "# Revising Graph - Delete nodes for terms not used in formulae "
   ]
  },
  {
   "cell_type": "markdown",
   "metadata": {},
   "source": [
    "We've seen some nodes, like Credit Event which, although important, do not appear in formulae.  We want to delete them systematically from our graph for purposes of creating the formulae which will become our pseudocode.  This will allow us to delete once, and have the deletion propogate through all our definitions, which is a benefit of starting with a graph."
   ]
  },
  {
   "cell_type": "code",
   "execution_count": 31,
   "metadata": {},
   "outputs": [
    {
     "name": "stdout",
     "output_type": "stream",
     "text": [
      "192\n",
      "Removing node Reference Obligations\n",
      "Removing node Reference Pool\n",
      "Removing node Clearstream\n",
      "Removing node Group 2 Termination Date\n",
      "Removing node Participants\n",
      "Removing node Global Agency Agreement\n",
      "Removing node Wells Fargo Bank\n",
      "Removing node Treasury\n",
      "Removing node BofA Merrill\n",
      "Removing node Group 1 Notes\n",
      "Removing node Group Termination Date\n",
      "Removing node Euroclear Participants\n",
      "Removing node Closing Date\n",
      "Removing node Note Owners\n",
      "Removing node Dealer\n",
      "Removing node Dealer Agreement\n",
      "Removing node Warrant\n",
      "Removing node Wells Fargo\n",
      "Removing node Credit Suisse\n",
      "Removing node JP Morgan\n",
      "Removing node Barclays\n",
      "Removing node Clearstream International\n",
      "Removing node Citigroup\n",
      "Removing node Euroclear\n",
      "Removing node Group 1 Termination Date\n",
      "Removing node Liquidation Proceeds\n",
      "Removing node Credit Event\n",
      "Removing node Payment Date\n",
      "Removing node Business Day\n",
      "Removing node Reporting Period\n",
      "Removing node Period\n",
      "Removing node Credit Event Reference Obligation\n",
      "160\n"
     ]
    }
   ],
   "source": [
    "cleangraph = graph.copy() # want to preserve the original for future reference.\n",
    "\n",
    "terms2delete = 'Reference Obligations;Reference Pool;Clearstream;Group 2 Termination Date;Participants'.split(';')\n",
    "terms2delete += 'Global Agency Agreement;Wells Fargo Bank;Treasury;BofA Merrill;Group 1 Notes'.split(';')\n",
    "terms2delete += 'Group Termination Date; Indirect Participants;Euroclear Participants'.split(';')\n",
    "terms2delete += 'Closing Date;Note Owners;Dealer;Dealer Agreement;Warrant;Wells Fargo'.split(';')\n",
    "terms2delete += 'Credit Suisse;JP Morgan;Barclays;Clearstream International'.split(';')\n",
    "terms2delete +='Citigroup;Euroclear;Group 1 Termination Date'.split(';')\n",
    "terms2delete+= 'Liquidation Proceeds;Credit Event;Payment Date;Business Day;Reporting Period;Period;Credit Event Reference Obligation'.split(';')\n",
    "\n",
    "print(len(cleangraph))\n",
    "\n",
    "for term_ in terms2delete:\n",
    "    if term_ in cleangraph.nodes():\n",
    "        print(\"Removing node %s\" % term_)\n",
    "        cleangraph.remove_node(term_)\n",
    "print(len(cleangraph))"
   ]
  },
  {
   "cell_type": "code",
   "execution_count": 32,
   "metadata": {},
   "outputs": [
    {
     "data": {
      "image/png": "[encoded data removed]",
      "text/plain": [
       "<matplotlib.figure.Figure at 0x1ed66a23978>"
      ]
     },
     "metadata": {},
     "output_type": "display_data"
    }
   ],
   "source": [
    "make_draw_graph(term0,cleangraph,(18,5))"
   ]
  },
  {
   "cell_type": "markdown",
   "metadata": {},
   "source": [
    "## Set up some automated acronyms for easy reading"
   ]
  },
  {
   "cell_type": "code",
   "execution_count": 33,
   "metadata": {},
   "outputs": [
    {
     "name": "stdout",
     "output_type": "stream",
     "text": [
      "Tranche Write-up Amount\n",
      "['PrAm', 'PrAm0', 'PrAm1']\n",
      "['PrAm2', 'PrAm3', 'PrAm4']\n",
      "['PrAm', 'PrAm0', 'PrAm1']\n"
     ]
    }
   ],
   "source": [
    "def nocollision(f):\n",
    "    cache = []\n",
    "    # this time, we allow ourselves to clear the cache manually\n",
    "    def _f(arg,reset=False):\n",
    "        if reset: \n",
    "            cache.clear()\n",
    "            return\n",
    "        #print(cache)\n",
    "        i = 0\n",
    "        baseresult = f(arg)\n",
    "        result = baseresult\n",
    "        while result in cache:\n",
    "            assert i < 100, 'Problems with arg %s, f(arg) %s, and i %i' %(arg,result,i)\n",
    "            #print(result)\n",
    "            result = baseresult + str(i)\n",
    "            i+=1\n",
    "        cache.append(result)\n",
    "        return result\n",
    "    return _f\n",
    "print(term0)\n",
    "\n",
    "@nocollision\n",
    "def acro(term): return gutils.acro(term)\n",
    "\n",
    "print([acro(term_) for term_ in 'Principal Amount;Private Amount;Press Amonia'.split(';')])\n",
    "print([acro(term_) for term_ in 'Principal Amount;Private Amount;Press Amonia'.split(';')])\n",
    "acro(term0,1) # resets ('clears') the cache to an empty list\n",
    "print([acro(term_) for term_ in 'Principal Amount;Private Amount;Press Amonia'.split(';')])"
   ]
  },
  {
   "cell_type": "markdown",
   "metadata": {},
   "source": [
    "## Make an acronym dictionary and reverse dictionary."
   ]
  },
  {
   "cell_type": "code",
   "execution_count": 34,
   "metadata": {},
   "outputs": [
    {
     "data": {
      "text/plain": [
       "[('RCR Notes', 'RCRNot'),\n",
       " ('Exchangeable Notes', 'ExcNot'),\n",
       " ('Dealer', 'De'),\n",
       " ('Additional Information', 'AddInf'),\n",
       " ('Qualified Institutional Buyers', 'QuInsBuy')]"
      ]
     },
     "execution_count": 34,
     "metadata": {},
     "output_type": "execute_result"
    }
   ],
   "source": [
    "acro('',reset = 1) # empty the cache\n",
    "acrodict = dict([k,acro(k)] for k in termdict.keys()) # a dcitionary\n",
    "racrodict = dict(((v,k) for k,v in acrodict.items()))\n",
    "list(acrodict.items())[:5]#,racrodict['RCRNot']"
   ]
  },
  {
   "cell_type": "code",
   "execution_count": 35,
   "metadata": {},
   "outputs": [
    {
     "data": {
      "text/plain": [
       "(160, 192)"
      ]
     },
     "execution_count": 35,
     "metadata": {},
     "output_type": "execute_result"
    }
   ],
   "source": [
    "len(cleangraph),len(graph)"
   ]
  },
  {
   "cell_type": "code",
   "execution_count": 36,
   "metadata": {},
   "outputs": [
    {
     "data": {
      "text/plain": [
       "('Tranche Write-up Amount',\n",
       " 'full graph',\n",
       " [('Principal Recovery Amount', 'Tranche Write-up Amount'),\n",
       "  ('Payment Date', 'Tranche Write-up Amount'),\n",
       "  ('Principal Loss Amount', 'Tranche Write-up Amount')],\n",
       " 'cleaned graph',\n",
       " [('Principal Recovery Amount', 'Tranche Write-up Amount'),\n",
       "  ('Principal Loss Amount', 'Tranche Write-up Amount')])"
      ]
     },
     "execution_count": 36,
     "metadata": {},
     "output_type": "execute_result"
    }
   ],
   "source": [
    "term0,'full graph',graph.in_edges(term0),'cleaned graph', cleangraph.in_edges(term0)"
   ]
  },
  {
   "cell_type": "code",
   "execution_count": 37,
   "metadata": {},
   "outputs": [
    {
     "data": {
      "text/plain": [
       "[]"
      ]
     },
     "execution_count": 37,
     "metadata": {},
     "output_type": "execute_result"
    }
   ],
   "source": [
    "cleangraph.in_edges('Credit Event')"
   ]
  },
  {
   "cell_type": "code",
   "execution_count": 38,
   "metadata": {},
   "outputs": [
    {
     "data": {
      "text/plain": [
       "[('Delinquency Test', 'Senior Reduction Amount'),\n",
       " ('Scheduled Principal', 'Senior Reduction Amount'),\n",
       " ('Unscheduled Principal', 'Senior Reduction Amount'),\n",
       " ('Recovery Principal', 'Senior Reduction Amount'),\n",
       " ('Minimum Credit Enhancement Test', 'Senior Reduction Amount')]"
      ]
     },
     "execution_count": 38,
     "metadata": {},
     "output_type": "execute_result"
    }
   ],
   "source": [
    "# Confirm values \n",
    "term = 'Senior Reduction Amount'\n",
    "term0 = 'Tranche Write-up Amount' # a second term\n",
    "cleangraph.in_edges(term)"
   ]
  },
  {
   "cell_type": "code",
   "execution_count": 54,
   "metadata": {},
   "outputs": [
    {
     "name": "stdout",
     "output_type": "stream",
     "text": [
      "SenRedAm: [Senior Reduction Amount]: (DelTes, SchPr, UnsPr, RecPr, MinCrEnhTes)\n",
      "\n",
      "SenRedAm: [Senior Reduction Amount]: (DelTes, SchPr, UnsPr, PayDat, RecPr, MinCrEnhTes)\n",
      "\n",
      "DelTes  :  Delinquency Test\n",
      "SchPr  :  Scheduled Principal\n",
      "UnsPr  :  Unscheduled Principal\n",
      "PayDat  :  Payment Date\n",
      "RecPr  :  Recovery Principal\n",
      "MinCrEnhTes  :  Minimum Credit Enhancement Test\n",
      "Related Definitions The \"Senior Reduction Amount\" with respect to any Payment Date and Loan Group is either: (A) if any of the Minimum Credit Enhancement Test and the Delinquency Test for such Loan Group is not satisfied, the sum of: (i) the Senior Percentage of the Scheduled Principal for such Payment Date and Loan Group; (ii) 100% of the Unscheduled Principal for such Payment Date and Loan Group; and (iii) 100% of the Recovery Principal for such Payment Date and Loan Group; or (B) if the Minimum Credit Enhancement Test and the Delinquency Test for such Loan Group are satisfied, the sum of: (i) the Senior Percentage of the Scheduled Principal for such Payment Date and Loan Group; (ii) the Senior Percentage of the Unscheduled Principal for such Payment Date and Loan Group; and (iii) 100% of the Recovery Principal for such Payment Date and Loan Group.\n",
      "\n",
      "SenPer\n",
      "\n",
      "The \"Group 1 Senior Percentage\" with respect to any Payment Date and the Group 1 Notes, is the percentage equivalent of a fraction, the numerator of which is the Class Notional Amount of the Class 1A-H Reference Tranche immediately prior to such Payment Date and the denominator of which is the aggregate unpaid principal balance of the Reference Obligations in Loan Group 1 at the end of the previous Reporting Period.\n"
     ]
    },
    {
     "data": {
      "text/plain": [
       "('Tranche Write-up Amount',\n",
       " '\\t\\tTrWrAm: [Tranche Write-up Amount]: (PrRecAm, PrLosAm)')"
      ]
     },
     "execution_count": 54,
     "metadata": {},
     "output_type": "execute_result"
    }
   ],
   "source": [
    "#How to make a tentative formula, for editing and encoding\n",
    "get_formula = lambda term,line=False,g=cleangraph: dlm[0].join((gutils.acro(term),'['+term+']')) + dlm[0] +'('+ dlm[1].join((gutils.acro(edge[0]) \n",
    "                                                        for edge in g.in_edges(term)) )+')'+ (\"\\n\" if line else '')\n",
    "print(get_formula(term,1))\n",
    "print(get_formula(term,1,g=g))\n",
    "for edge in g.in_edges(term): print(acrodict[edge[0]],\" : \", edge[0])\n",
    "print(('\\n' * 2).join((termdict[term][0][1],gutils.acro('Senior Percentage'),termdict['Group 1 Senior Percentage'][0][1])))\n",
    "\n",
    "get_formula_indent = lambda x,indent=0: '\\t'*indent + get_formula(x)\n",
    "term0, get_formula_indent(term0,2)"
   ]
  },
  {
   "cell_type": "code",
   "execution_count": 101,
   "metadata": {},
   "outputs": [
    {
     "name": "stdout",
     "output_type": "stream",
     "text": [
      "[]\n"
     ]
    }
   ],
   "source": [
    "func,cum_form = decf(lambda x: x, lambda x: ([x+1],))\n",
    "print(cum_form)"
   ]
  },
  {
   "cell_type": "code",
   "execution_count": 102,
   "metadata": {},
   "outputs": [
    {
     "data": {
      "text/plain": [
       "['TrWrAm: [Tranche Write-up Amount]: (PrRecAm, PrLosAm)',\n",
       " '\\tPrRecAm: [Principal Recovery Amount]: (CrEvNetGa, NetLiqPr, CrEvNetLos)',\n",
       " '\\t\\tCrEvNetGa: [Credit Event Net Gain]: (CrEvUPB, NetLiqPr, CurAccRat)']"
      ]
     },
     "execution_count": 102,
     "metadata": {},
     "output_type": "execute_result"
    }
   ],
   "source": [
    "func,cum_form = decf(get_formula_indent,lambda term,it: ([indedge[0],it+1]\n",
    "                for indedge in cleangraph.in_edges(term)))\n",
    "func(term0,0)\n",
    "cum_form[:3]"
   ]
  },
  {
   "cell_type": "markdown",
   "metadata": {},
   "source": [
    "## Write the pre-formula to file"
   ]
  },
  {
   "cell_type": "code",
   "execution_count": 106,
   "metadata": {
    "collapsed": true
   },
   "outputs": [],
   "source": [
    "if 1:\n",
    "    with open('formula_dict_clean0.txt','w') as f:\n",
    "        for line in cum_form: f.write(line+\"\\n\")"
   ]
  },
  {
   "cell_type": "markdown",
   "metadata": {},
   "source": [
    "## Check that empty formulae should be empty"
   ]
  },
  {
   "cell_type": "code",
   "execution_count": 104,
   "metadata": {},
   "outputs": [
    {
     "name": "stdout",
     "output_type": "stream",
     "text": [
      "[(1856, 'The \"Liquidation Proceeds\" with respect to a Credit Event Reference Obligation represent all cash amounts (including sales proceeds, net of selling expenses) received in connection with the liquidation of the Credit Event Reference Obligation.')]\n",
      "[(1854, 'The \"Credit Event UPB\" with respect to any Credit Event Reference Obligation is the unpaid principal balance thereof as of the end of the Reporting Period related to the Payment Date that it became a Credit Event Reference Obligation.')]\n",
      "[(1856, 'The \"Liquidation Proceeds\" with respect to a Credit Event Reference Obligation represent all cash amounts (including sales proceeds, net of selling expenses) received in connection with the liquidation of the Credit Event Reference Obligation.')]\n"
     ]
    }
   ],
   "source": [
    "for term_ in 'LiqPr CrEvUPB LiqPr'.split():\n",
    "    print(termdict[racrodict[term_]])"
   ]
  },
  {
   "cell_type": "code",
   "execution_count": 108,
   "metadata": {},
   "outputs": [
    {
     "data": {
      "text/plain": [
       "'Liq: [LiqPr]: ()'"
      ]
     },
     "execution_count": 108,
     "metadata": {},
     "output_type": "execute_result"
    }
   ],
   "source": [
    "get_formula('LiqPr')"
   ]
  },
  {
   "cell_type": "code",
   "execution_count": 105,
   "metadata": {},
   "outputs": [
    {
     "data": {
      "text/plain": [
       "[(1857,\n",
       "  'A \"Modification Event\" with respect to any Reference Obligation is a forbearance or certain mortgage rate modifications relating to such Reference Obligation, it being understood that in the absence of a forbearance or certain mortgage rate modifications, a term extension on a Reference Obligation will not constitute a Modification Event.'),\n",
       " (1858,\n",
       "  'In addition, a mortgage rate modification that results in an increased mortgage rate with respect to any Reference Obligation (after giving effect to all scheduled mortgage rate modifications thereon) will not constitute a \"Modification Event.\" For example, in the case of a mortgage rate modification that provides for a mortgage rate reduction from 4% to 2% followed by a future step-up in the mortgage rate from 2% to 5%, the modification will not be treated as a \"Modification Event.\" By contrast, in the case of a mortgage rate modification that provides for a mortgage rate reduction from 4% to 2% followed by a future step-up in the mortgage rate from 2% back to 4%, the modification will be treated as a \"Modification Event.\" The \"Modification Loss Amount\" with respect to each Payment Date and any Reference Obligation that has experienced a Modification Event is the excess, if any, of: (a) one-twelfth of the Original Accrual Rate multiplied by the UPB of such Reference Obligation, over (b) one-twelfth of the Current Accrual Rate multiplied by the interest bearing UPB of such Reference Obligation.'),\n",
       " (1858,\n",
       "  'In addition, a mortgage rate modification that results in an increased mortgage rate with respect to any Reference Obligation (after giving effect to all scheduled mortgage rate modifications thereon) will not constitute a \"Modification Event.\" For example, in the case of a mortgage rate modification that provides for a mortgage rate reduction from 4% to 2% followed by a future step-up in the mortgage rate from 2% to 5%, the modification will not be treated as a \"Modification Event.\" By contrast, in the case of a mortgage rate modification that provides for a mortgage rate reduction from 4% to 2% followed by a future step-up in the mortgage rate from 2% back to 4%, the modification will be treated as a \"Modification Event.\" The \"Modification Loss Amount\" with respect to each Payment Date and any Reference Obligation that has experienced a Modification Event is the excess, if any, of: (a) one-twelfth of the Original Accrual Rate multiplied by the UPB of such Reference Obligation, over (b) one-twelfth of the Current Accrual Rate multiplied by the interest bearing UPB of such Reference Obligation.'),\n",
       " (1858,\n",
       "  'In addition, a mortgage rate modification that results in an increased mortgage rate with respect to any Reference Obligation (after giving effect to all scheduled mortgage rate modifications thereon) will not constitute a \"Modification Event.\" For example, in the case of a mortgage rate modification that provides for a mortgage rate reduction from 4% to 2% followed by a future step-up in the mortgage rate from 2% to 5%, the modification will not be treated as a \"Modification Event.\" By contrast, in the case of a mortgage rate modification that provides for a mortgage rate reduction from 4% to 2% followed by a future step-up in the mortgage rate from 2% back to 4%, the modification will be treated as a \"Modification Event.\" The \"Modification Loss Amount\" with respect to each Payment Date and any Reference Obligation that has experienced a Modification Event is the excess, if any, of: (a) one-twelfth of the Original Accrual Rate multiplied by the UPB of such Reference Obligation, over (b) one-twelfth of the Current Accrual Rate multiplied by the interest bearing UPB of such Reference Obligation.')]"
      ]
     },
     "execution_count": 105,
     "metadata": {},
     "output_type": "execute_result"
    }
   ],
   "source": [
    "termdict[racrodict['ModEv']]"
   ]
  },
  {
   "cell_type": "code",
   "execution_count": 107,
   "metadata": {},
   "outputs": [
    {
     "data": {
      "text/plain": [
       "'Mod: [ModEv]: ()'"
      ]
     },
     "execution_count": 107,
     "metadata": {},
     "output_type": "execute_result"
    }
   ],
   "source": [
    "get_formula('ModEv')"
   ]
  },
  {
   "cell_type": "code",
   "execution_count": null,
   "metadata": {
    "collapsed": true
   },
   "outputs": [],
   "source": []
  }
 ],
 "metadata": {
  "kernelspec": {
   "display_name": "Python 3",
   "language": "python",
   "name": "python3"
  },
  "language_info": {
   "codemirror_mode": {
    "name": "ipython",
    "version": 3
   },
   "file_extension": ".py",
   "mimetype": "text/x-python",
   "name": "python",
   "nbconvert_exporter": "python",
   "pygments_lexer": "ipython3",
   "version": "3.6.10"
  },
  "toc": {
   "base_numbering": 1,
   "nav_menu": {},
   "number_sections": true,
   "sideBar": true,
   "skip_h1_title": false,
   "title_cell": "Table of Contents",
   "title_sidebar": "Contents",
   "toc_cell": false,
   "toc_position": {
    "height": "calc(100% - 180px)",
    "left": "10px",
    "top": "150px",
    "width": "224px"
   },
   "toc_section_display": true,
   "toc_window_display": true
  }
 },
 "nbformat": 4,
 "nbformat_minor": 2
}
