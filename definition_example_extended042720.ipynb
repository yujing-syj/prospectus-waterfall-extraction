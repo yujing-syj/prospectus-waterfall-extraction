{
 "cells": [
  {
   "cell_type": "markdown",
   "metadata": {},
   "source": [
    "# Usual Package Imports"
   ]
  },
  {
   "cell_type": "code",
   "execution_count": 2,
   "metadata": {},
   "outputs": [
    {
     "data": {
      "text/plain": [
       "'2020_04_27'"
      ]
     },
     "execution_count": 2,
     "metadata": {},
     "output_type": "execute_result"
    }
   ],
   "source": [
    "import networkx as nx, numpy as np, matplotlib.pyplot as plt, re, yaml,sys, shelve\n",
    "from datetime import datetime,date\n",
    "from collections import defaultdict\n",
    "from functools import reduce\n",
    "from importlib import reload\n",
    "today = re.sub('-','_',str(date.today()))\n",
    "today"
   ]
  },
  {
   "cell_type": "markdown",
   "metadata": {},
   "source": [
    "# Change Directory - Revise for your file system."
   ]
  },
  {
   "cell_type": "code",
   "execution_count": 3,
   "metadata": {},
   "outputs": [
    {
     "name": "stdout",
     "output_type": "stream",
     "text": [
      "C:\\Users\\nlgun\\Downloads\n"
     ]
    }
   ],
   "source": [
    "s = %pwd\n",
    "if not re.search('Downloads$',s):\n",
    "    %cd Downloads"
   ]
  },
  {
   "cell_type": "markdown",
   "metadata": {},
   "source": [
    "## Open a shelve and load a graph and a term dictionary"
   ]
  },
  {
   "cell_type": "code",
   "execution_count": 74,
   "metadata": {},
   "outputs": [
    {
     "data": {
      "text/plain": [
       "['graph', 'term_dictionary', 'termdefdict']"
      ]
     },
     "execution_count": 74,
     "metadata": {},
     "output_type": "execute_result"
    }
   ],
   "source": [
    "with shelve.open('definitions') as f:\n",
    "    graphdict = dict([(k,v) for k,v in f.items()])\n",
    "graph,termdict,termdefdict = [graphdict[k] for k in 'graph term_dictionary termdefdict'.split()]\n",
    "list(graphdict.keys())"
   ]
  },
  {
   "cell_type": "code",
   "execution_count": 76,
   "metadata": {},
   "outputs": [
    {
     "name": "stdout",
     "output_type": "stream",
     "text": [
      "Senior Reduction Amount: Related Definitions The \"Senior Reduction Amount\" with respect to any Payment Date and Loan Group is either: (A) if any of the Minimum Credit Enhancement Test and the Delinquency Test for such Loan Group is not satisfied, the sum of: (i) the Senior Percentage of the Scheduled Principal for such Payment Date and Loan Group; (ii) 100% of the Unscheduled Principal for such Payment Date and Loan Group; and (iii) 100% of the Recovery Principal for such Payment Date and Loan Group; or (B) if the Minimum Credit Enhancement Test and the Delinquency Test for such Loan Group are satisfied, the sum of: (i) the Senior Percentage of the Scheduled Principal for such Payment Date and Loan Group; (ii) the Senior Percentage of the Unscheduled Principal for such Payment Date and Loan Group; and (iii) 100% of the Recovery Principal for such Payment Date and Loan Group.\n",
      "\tPayment Date: Payments on the Notes will be made by the Global Agent on the twenty-fifth (25th) day of each month (or, if such day is not a Business Day, then on the next succeeding Business Day) beginning in March 2016 (each, a \"Payment Date\").\n",
      "Payments Payments on the Notes will be made by the Global Agent, as paying agent, on the twenty-fifth (25th) day of each month (or, if such day is not a Business Day, then on the next succeeding Business Day), beginning in March 2016 (each, a \"Payment Date\"), to the persons in whose names such Notes are registered as of the close of business on the immediately preceding Business Day in the case of Book-Entry Notes and as of the close of business on the last day of the preceding month of such Payment Date in the case of Definitive Notes (the \"Record Date\").\n",
      "\tRecovery Principal: \"Recovery Principal\" with respect to any Payment Date and Loan Group is the sum of: (i) the excess, if any, of the related Credit Event Amount for such Payment Date and Loan Group, over the related Tranche Write-down Amount for such Payment Date; plus (ii) the related Tranche Write-up Amount for such Payment Date.\n",
      "\tUnscheduled Principal: \"Unscheduled Principal\" with respect to any Payment Date and Loan Group is: 90 (a) all partial principal prepayments on the related Reference Obligations collected during the related Reporting Period, plus (b) the aggregate unpaid principal balance of all related Reference Obligations that became subject to Reference Pool Removals during the related Reporting Period other than (i) Credit Event Reference Obligations and (ii) the portions of any prepayments in full that consist of scheduled principal collections, plus (c) decreases in the unpaid principal balance of all related Reference Obligations as the result of loan modifications or data corrections, plus (d) all scheduled principal collections, if any, for any related Reference Obligations that have been removed from the related MBS, minus (e) increases in the unpaid principal balance of all related Reference Obligations as the result of loan modifications or data corrections.\n",
      "\tScheduled Principal: \"Scheduled Principal\" with respect to any Payment Date and Loan Group is the sum of all monthly scheduled payments of principal due (whether with respect to the related Reporting Period or any prior Reporting Period) on the Reference Obligations in that Loan Group and reported to Fannie Mae and collected by the related servicer during the related Reporting Period.\n",
      "\tMinimum Credit Enhancement Test: The \"Minimum Credit Enhancement Test\" with respect to any Payment Date and Loan Group is a test that will be satisfied if: (i)in the case of Loan Group 1, the Group 1 Subordinate Percentage (solely for purposes of such test, rounded to the sixth decimal place) is greater than or equal to 4.750000%, and (ii)in the case of Loan Group 2, the Group 2 Subordinate Percentage (solely for purposes of such test, rounded to the sixth decimal place) is greater than or equal to 4.750000%.\n",
      "\tDelinquency Test: The \"Delinquency Test\" for any Payment Date and Loan Group is a test that will be satisfied if: (a) the sum of the Distressed Principal Balance for such Loan Group for the current Payment Date and each of the preceding five Payment Dates, divided by six, is less than (b) 40% of the excess of (i) the product of (x) the Subordinate Percentage and (y) the aggregate UPB of the Reference Obligations in such Loan Group as of the preceding Payment Date over (ii) the Principal Loss Amount for such Loan Group for the current Payment Date.\n"
     ]
    }
   ],
   "source": [
    "print(termdefdict['Senior Reduction Amount'])"
   ]
  },
  {
   "cell_type": "code",
   "execution_count": 5,
   "metadata": {},
   "outputs": [
    {
     "data": {
      "text/plain": [
       "192"
      ]
     },
     "execution_count": 5,
     "metadata": {},
     "output_type": "execute_result"
    }
   ],
   "source": [
    "g = graph.copy()\n",
    "len(g)"
   ]
  },
  {
   "cell_type": "markdown",
   "metadata": {},
   "source": [
    "## Test the Graph"
   ]
  },
  {
   "cell_type": "code",
   "execution_count": 6,
   "metadata": {},
   "outputs": [
    {
     "data": {
      "text/plain": [
       "InEdgeDataView([('Payment Date', 'Senior Reduction Amount'), ('Recovery Principal', 'Senior Reduction Amount'), ('Unscheduled Principal', 'Senior Reduction Amount'), ('Scheduled Principal', 'Senior Reduction Amount'), ('Minimum Credit Enhancement Test', 'Senior Reduction Amount'), ('Delinquency Test', 'Senior Reduction Amount')])"
      ]
     },
     "execution_count": 6,
     "metadata": {},
     "output_type": "execute_result"
    }
   ],
   "source": [
    "g.in_edges('Senior Reduction Amount')"
   ]
  },
  {
   "cell_type": "code",
   "execution_count": 7,
   "metadata": {},
   "outputs": [
    {
     "data": {
      "text/plain": [
       "[('Payment Date',\n",
       "  [(555,\n",
       "    'Payments on the Notes will be made by the Global Agent on the twenty-fifth (25th) day of each month (or, if such day is not a Business Day, then on the next succeeding Business Day) beginning in March 2016 (each, a \"Payment Date\").'),\n",
       "   (1712,\n",
       "    'Payments Payments on the Notes will be made by the Global Agent, as paying agent, on the twenty-fifth (25th) day of each month (or, if such day is not a Business Day, then on the next succeeding Business Day), beginning in March 2016 (each, a \"Payment Date\"), to the persons in whose names such Notes are registered as of the close of business on the immediately preceding Business Day in the case of Book-Entry Notes and as of the close of business on the last day of the preceding month of such Payment Date in the case of Definitive Notes (the \"Record Date\").')]),\n",
       " ('Recovery Principal',\n",
       "  [(1836,\n",
       "    '\"Recovery Principal\" with respect to any Payment Date and Loan Group is the sum of: (i) the excess, if any, of the related Credit Event Amount for such Payment Date and Loan Group, over the related Tranche Write-down Amount for such Payment Date; plus (ii) the related Tranche Write-up Amount for such Payment Date.')]),\n",
       " ('Unscheduled Principal',\n",
       "  [(1832,\n",
       "    '\"Unscheduled Principal\" with respect to any Payment Date and Loan Group is: 90 (a) all partial principal prepayments on the related Reference Obligations collected during the related Reporting Period, plus (b) the aggregate unpaid principal balance of all related Reference Obligations that became subject to Reference Pool Removals during the related Reporting Period other than (i) Credit Event Reference Obligations and (ii) the portions of any prepayments in full that consist of scheduled principal collections, plus (c) decreases in the unpaid principal balance of all related Reference Obligations as the result of loan modifications or data corrections, plus (d) all scheduled principal collections, if any, for any related Reference Obligations that have been removed from the related MBS, minus (e) increases in the unpaid principal balance of all related Reference Obligations as the result of loan modifications or data corrections.')]),\n",
       " ('Scheduled Principal',\n",
       "  [(1831,\n",
       "    '\"Scheduled Principal\" with respect to any Payment Date and Loan Group is the sum of all monthly scheduled payments of principal due (whether with respect to the related Reporting Period or any prior Reporting Period) on the Reference Obligations in that Loan Group and reported to Fannie Mae and collected by the related servicer during the related Reporting Period.')]),\n",
       " ('Minimum Credit Enhancement Test',\n",
       "  [(1839,\n",
       "    'The \"Minimum Credit Enhancement Test\" with respect to any Payment Date and Loan Group is a test that will be satisfied if: (i)in the case of Loan Group 1, the Group 1 Subordinate Percentage (solely for purposes of such test, rounded to the sixth decimal place) is greater than or equal to 4.750000%, and (ii)in the case of Loan Group 2, the Group 2 Subordinate Percentage (solely for purposes of such test, rounded to the sixth decimal place) is greater than or equal to 4.750000%.')]),\n",
       " ('Delinquency Test',\n",
       "  [(1837,\n",
       "    'The \"Delinquency Test\" for any Payment Date and Loan Group is a test that will be satisfied if: (a) the sum of the Distressed Principal Balance for such Loan Group for the current Payment Date and each of the preceding five Payment Dates, divided by six, is less than (b) 40% of the excess of (i) the product of (x) the Subordinate Percentage and (y) the aggregate UPB of the Reference Obligations in such Loan Group as of the preceding Payment Date over (ii) the Principal Loss Amount for such Loan Group for the current Payment Date.')])]"
      ]
     },
     "execution_count": 7,
     "metadata": {},
     "output_type": "execute_result"
    }
   ],
   "source": [
    "[(edge[0],termdict[edge[0]]) for edge in g.in_edges('Senior Reduction Amount')]"
   ]
  },
  {
   "cell_type": "code",
   "execution_count": 8,
   "metadata": {},
   "outputs": [],
   "source": [
    "g0= nx.DiGraph()\n",
    "g0.add_edges_from(g.in_edges(\"Recovery Principal\"))"
   ]
  },
  {
   "cell_type": "code",
   "execution_count": 9,
   "metadata": {},
   "outputs": [],
   "source": [
    "def draw_g(g,sz = (20,20)):\n",
    "    plt.figure(1,figsize=sz)\n",
    "    nx.draw_networkx(g)\n",
    "    plt.show()"
   ]
  },
  {
   "cell_type": "code",
   "execution_count": 10,
   "metadata": {},
   "outputs": [
    {
     "data": {
      "image/png": "[encoded data removed]",
      "text/plain": [
       "<Figure size 1440x1440 with 1 Axes>"
      ]
     },
     "metadata": {},
     "output_type": "display_data"
    }
   ],
   "source": [
    "draw_g(g0)"
   ]
  },
  {
   "cell_type": "code",
   "execution_count": 11,
   "metadata": {},
   "outputs": [
    {
     "data": {
      "text/plain": [
       "InEdgeDataView([('Payment Date', 'Tranche Write-up Amount'), ('Principal Loss Amount', 'Tranche Write-up Amount'), ('Principal Recovery Amount', 'Tranche Write-up Amount')])"
      ]
     },
     "execution_count": 11,
     "metadata": {},
     "output_type": "execute_result"
    }
   ],
   "source": [
    "g.in_edges('Tranche Write-up Amount')"
   ]
  },
  {
   "cell_type": "markdown",
   "metadata": {},
   "source": [
    "# Import our Custom Code for Tracing Back Definitions through other Definitions"
   ]
  },
  {
   "cell_type": "code",
   "execution_count": 12,
   "metadata": {},
   "outputs": [],
   "source": [
    "import graphutils\n",
    "reload(graphutils)\n",
    "gutils = graphutils.GraphUtils"
   ]
  },
  {
   "cell_type": "markdown",
   "metadata": {},
   "source": [
    "## Test Traceback"
   ]
  },
  {
   "cell_type": "code",
   "execution_count": 13,
   "metadata": {},
   "outputs": [
    {
     "name": "stdout",
     "output_type": "stream",
     "text": [
      "66 761 3\n"
     ]
    },
    {
     "data": {
      "text/plain": [
       "(InEdgeDataView([('Payment Date', 'Senior Reduction Amount'), ('Recovery Principal', 'Senior Reduction Amount'), ('Unscheduled Principal', 'Senior Reduction Amount'), ('Scheduled Principal', 'Senior Reduction Amount'), ('Minimum Credit Enhancement Test', 'Senior Reduction Amount'), ('Delinquency Test', 'Senior Reduction Amount')]),\n",
       " [(1823,\n",
       "   'Related Definitions The \"Senior Reduction Amount\" with respect to any Payment Date and Loan Group is either: (A) if any of the Minimum Credit Enhancement Test and the Delinquency Test for such Loan Group is not satisfied, the sum of: (i) the Senior Percentage of the Scheduled Principal for such Payment Date and Loan Group; (ii) 100% of the Unscheduled Principal for such Payment Date and Loan Group; and (iii) 100% of the Recovery Principal for such Payment Date and Loan Group; or (B) if the Minimum Credit Enhancement Test and the Delinquency Test for such Loan Group are satisfied, the sum of: (i) the Senior Percentage of the Scheduled Principal for such Payment Date and Loan Group; (ii) the Senior Percentage of the Unscheduled Principal for such Payment Date and Loan Group; and (iii) 100% of the Recovery Principal for such Payment Date and Loan Group.')])"
      ]
     },
     "execution_count": 13,
     "metadata": {},
     "output_type": "execute_result"
    }
   ],
   "source": [
    "ar = []\n",
    "term, term0 = 'Tranche Write-up Amount;Senior Reduction Amount'.split(';')\n",
    "lst = lambda x: ar.append(x)\n",
    "lg = gutils.traceback(g.copy(),term,num=5,it=0,f=lst)\n",
    "print(len(lg.edges()),len(g.edges()),len(g.in_edges('Tranche Write-up Amount')))\n",
    "#lg = gutils.traceback(g.copy(),'Senior Reduction Amount',num=3)\n",
    "#draw_g(lg)\n",
    "g.in_edges(term0),termdict[term0]"
   ]
  },
  {
   "cell_type": "code",
   "execution_count": 14,
   "metadata": {},
   "outputs": [
    {
     "data": {
      "text/plain": [
       "[(0, 'Payment Date'),\n",
       " (0, 'Principal Loss Amount'),\n",
       " (0, 'Principal Recovery Amount'),\n",
       " (1, 'Book-Entry Notes'),\n",
       " (1, 'Business Day'),\n",
       " (1, 'Credit Event'),\n",
       " (1, 'Credit Event Net Gain'),\n",
       " (1, 'Credit Event Net Loss'),\n",
       " (1, 'Credit Event Reference Obligation'),\n",
       " (1, 'Definitive Notes'),\n",
       " (1, 'Liquidation Proceeds'),\n",
       " (1, 'Modification Loss Amount'),\n",
       " (1, 'Net Liquidation Proceeds'),\n",
       " (1, 'Period'),\n",
       " (1, 'Record Date'),\n",
       " (1, 'Reference Obligations'),\n",
       " (1, 'Reporting Period'),\n",
       " (1, 'Warrant'),\n",
       " (2, 'Clearstream'),\n",
       " (2, 'Credit Event UPB'),\n",
       " (2, 'Current Accrual Rate'),\n",
       " (2, 'Cut-off Date'),\n",
       " (2, 'Euroclear'),\n",
       " (2, 'Group Termination Date'),\n",
       " (2, 'Mortgage Insurance Credit Amount'),\n",
       " (2, 'Note Owners'),\n",
       " (2, 'Reference Pool'),\n",
       " (2, 'Treasury'),\n",
       " (2, 'Wells Fargo'),\n",
       " (2, 'Wells Fargo Bank'),\n",
       " (3, 'Barclays'),\n",
       " (3, 'BofA Merrill'),\n",
       " (3, 'Citigroup'),\n",
       " (3, 'Clearstream International'),\n",
       " (3, 'Credit Suisse'),\n",
       " (3, 'Dealer'),\n",
       " (3, 'Dealer Agreement'),\n",
       " (3, 'Dealers'),\n",
       " (3, 'Euroclear Participants'),\n",
       " (3, 'Global Agency Agreement'),\n",
       " (3, 'Global Agent'),\n",
       " (3, 'Group 1 Notes'),\n",
       " (3, 'Group 1 Termination Date'),\n",
       " (3, 'Group 2 Termination Date'),\n",
       " (3, 'Indirect Participants'),\n",
       " (3, 'JP Morgan'),\n",
       " (3, 'Modification Event'),\n",
       " (3, 'Participants'),\n",
       " (3, 'Projected Recovery Amount'),\n",
       " (4, 'Class Coupon'),\n",
       " (4, 'Class Principal Balance'),\n",
       " (4, 'Closing Date'),\n",
       " (4, 'Early Redemption Option'),\n",
       " (4, 'Exchangeable Notes'),\n",
       " (4, 'Group 1 Class'),\n",
       " (4, 'Group 1 Classes'),\n",
       " (4, 'Group 1 Offered Notes'),\n",
       " (4, 'Group 2 Class'),\n",
       " (4, 'Group 2 Classes'),\n",
       " (4, 'Group 2 Notes'),\n",
       " (4, 'Maturity Date'),\n",
       " (4, 'Offered Notes'),\n",
       " (4, 'Original Accrual Rate'),\n",
       " (4, 'RCR Notes'),\n",
       " (4, 'Recovery Election Date'),\n",
       " (4, 'Tranche Write-down Amount')]"
      ]
     },
     "execution_count": 14,
     "metadata": {},
     "output_type": "execute_result"
    }
   ],
   "source": [
    "ar.sort()\n",
    "ar"
   ]
  },
  {
   "cell_type": "code",
   "execution_count": 15,
   "metadata": {},
   "outputs": [],
   "source": [
    "dlm = (': ',', ','\\n') # various delimiters for use in string formation"
   ]
  },
  {
   "cell_type": "code",
   "execution_count": 16,
   "metadata": {},
   "outputs": [
    {
     "data": {
      "text/plain": [
       "('Tranche Write-up Amount',\n",
       " [(1876,\n",
       "   'Related Definitions The \"Tranche Write-up Amount\" with respect to any Payment Date and Loan Group is the excess, if any, of the Principal Recovery Amount for such Payment Date and Loan Group over the Principal Loss Amount for such Payment Date and Loan Group.')])"
      ]
     },
     "execution_count": 16,
     "metadata": {},
     "output_type": "execute_result"
    }
   ],
   "source": [
    "term,termdict[term]"
   ]
  },
  {
   "cell_type": "markdown",
   "metadata": {},
   "source": [
    "# A General Recursive Method"
   ]
  },
  {
   "cell_type": "code",
   "execution_count": 36,
   "metadata": {},
   "outputs": [
    {
     "name": "stdout",
     "output_type": "stream",
     "text": [
      "[]\n"
     ]
    },
    {
     "data": {
      "text/plain": [
       "[0, 1, 2, 3]"
      ]
     },
     "execution_count": 36,
     "metadata": {},
     "output_type": "execute_result"
    }
   ],
   "source": [
    "def decf(f,newargs_,cum = None,num=2, it = 0): # newargs_ is a function\n",
    "    # that makes new arguments from args.\n",
    "    cum = cum or [] # cum is the accumulation of the recurion\n",
    "    def f_(*args,num=num,it=it):\n",
    "        #print('args',args)\n",
    "        cum.append(f(*args))\n",
    "        if it <= num:\n",
    "            newargs = newargs_(*args)\n",
    "            for args in newargs:\n",
    "                f_(*args,num=num,it=it+1)\n",
    "    return f_,cum\n",
    "func,cum = decf(lambda x: x, lambda x: ([x+1],))\n",
    "print(cum)\n",
    "func(0)\n",
    "cum "
   ]
  },
  {
   "cell_type": "code",
   "execution_count": 37,
   "metadata": {},
   "outputs": [
    {
     "data": {
      "text/plain": [
       "[0, 1, 2, 3]"
      ]
     },
     "execution_count": 37,
     "metadata": {},
     "output_type": "execute_result"
    }
   ],
   "source": [
    "cum"
   ]
  },
  {
   "cell_type": "markdown",
   "metadata": {},
   "source": [
    "## Turn a definition into a string"
   ]
  },
  {
   "cell_type": "code",
   "execution_count": 38,
   "metadata": {},
   "outputs": [
    {
     "data": {
      "text/plain": [
       "'Tranche Write-up Amount: Related Definitions The \"Tranche Write-up Amount\" with respect to any Payment Date and Loan Group is the excess, if any, of the Principal Recovery Amount for such Payment Date and Loan Group over the Principal Loss Amount for such Payment Date and Loan Group.'"
      ]
     },
     "execution_count": 38,
     "metadata": {},
     "output_type": "execute_result"
    }
   ],
   "source": [
    "get_def = lambda term,line=False,g=g,dct = termdict: dlm[0].join((term, dlm[-1].join((tpl[1] for tpl in dct[term]))))\n",
    "def get_defs(term,line=False,g=g,num=1,it=0,dct = termdict):\n",
    "    get_def(term)\n",
    "get_def(term,1)"
   ]
  },
  {
   "cell_type": "markdown",
   "metadata": {},
   "source": [
    "## Indent the definition string"
   ]
  },
  {
   "cell_type": "code",
   "execution_count": 39,
   "metadata": {},
   "outputs": [
    {
     "data": {
      "text/plain": [
       "'\\t\\tTranche Write-up Amount: Related Definitions The \"Tranche Write-up Amount\" with respect to any Payment Date and Loan Group is the excess, if any, of the Principal Recovery Amount for such Payment Date and Loan Group over the Principal Loss Amount for such Payment Date and Loan Group.'"
      ]
     },
     "execution_count": 39,
     "metadata": {},
     "output_type": "execute_result"
    }
   ],
   "source": [
    "get_def_indent = lambda x,indent=0: '\\t'*indent + get_def(x)\n",
    "get_def_indent(term,2)"
   ]
  },
  {
   "cell_type": "code",
   "execution_count": 40,
   "metadata": {},
   "outputs": [
    {
     "data": {
      "text/plain": [
       "'Tranche Write-up Amount: Related Definitions The \"Tranche Write-up Amount\" with respect to any Payment Date and Loan Group is the excess, if any, of the Principal Recovery Amount for such Payment Date and Loan Group over the Principal Loss Amount for such Payment Date and Loan Group.'"
      ]
     },
     "execution_count": 40,
     "metadata": {},
     "output_type": "execute_result"
    }
   ],
   "source": [
    "get_def('Tranche Write-up Amount', line=1)"
   ]
  },
  {
   "cell_type": "markdown",
   "metadata": {},
   "source": [
    "## Using the recursion to write an indented dictionary of terms"
   ]
  },
  {
   "cell_type": "code",
   "execution_count": 56,
   "metadata": {},
   "outputs": [
    {
     "name": "stdout",
     "output_type": "stream",
     "text": [
      "[]\n"
     ]
    },
    {
     "data": {
      "text/plain": [
       "['Tranche Write-up Amount: Related Definitions The \"Tranche Write-up Amount\" with respect to any Payment Date and Loan Group is the excess, if any, of the Principal Recovery Amount for such Payment Date and Loan Group over the Principal Loss Amount for such Payment Date and Loan Group.',\n",
       " '\\tPayment Date: Payments on the Notes will be made by the Global Agent on the twenty-fifth (25th) day of each month (or, if such day is not a Business Day, then on the next succeeding Business Day) beginning in March 2016 (each, a \"Payment Date\").\\nPayments Payments on the Notes will be made by the Global Agent, as paying agent, on the twenty-fifth (25th) day of each month (or, if such day is not a Business Day, then on the next succeeding Business Day), beginning in March 2016 (each, a \"Payment Date\"), to the persons in whose names such Notes are registered as of the close of business on the immediately preceding Business Day in the case of Book-Entry Notes and as of the close of business on the last day of the preceding month of such Payment Date in the case of Definitive Notes (the \"Record Date\").',\n",
       " '\\t\\tGlobal Agent: Wells Fargo Bank, N.A. (\"Wells Fargo Bank\") will act as global agent (the \"Global Agent\") pursuant to a global agency agreement (the \"Global Agency Agreement\") entered into with Fannie Mae.',\n",
       " '\\t\\t\\tGlobal Agency Agreement: Wells Fargo Bank, N.A. (\"Wells Fargo Bank\") will act as global agent (the \"Global Agent\") pursuant to a global agency agreement (the \"Global Agency Agreement\") entered into with Fannie Mae.\\nUnder a Global Agency Agreement (the \"Global Agency Agreement\") to be dated as of the Closing Date between us and the Global Agent, Wells Fargo Bank will act as paying agent, registrar, transfer agent, authenticating agent and exchange administrator.',\n",
       " '\\t\\t\\tWells Fargo Bank: Wells Fargo Bank, N.A. (\"Wells Fargo Bank\") will act as global agent (the \"Global Agent\") pursuant to a global agency agreement (the \"Global Agency Agreement\") entered into with Fannie Mae.']"
      ]
     },
     "execution_count": 56,
     "metadata": {},
     "output_type": "execute_result"
    }
   ],
   "source": [
    "# using the recursion \n",
    "# need to have access to the cumulation \n",
    "func,cum = decf(get_def_indent,lambda term,it: ([indedge[0],it+1]\n",
    "                for indedge in g.in_edges(term)))\n",
    "print(cum)\n",
    "func(term,0)\n",
    "cum[:5]"
   ]
  },
  {
   "cell_type": "code",
   "execution_count": 65,
   "metadata": {},
   "outputs": [
    {
     "name": "stdout",
     "output_type": "stream",
     "text": [
      "Tranche Write-up Amount: Related Definitions The \"Tranche Write-up Amount\" with respect to any Payment Date and Loan Group is the excess, if any, of the Principal Recovery Amount for such Payment Date and Loan Group over the Principal Loss Amount for such Payment Date and Loan Group.\n",
      "\tPayment Date: Payments on the Notes will be made by the Global Agent on the twenty-fifth (25th) day of each month (or, if such day is not a Business Day, then on the next succeeding Business Day) beginning in March 2016 (each, a \"Payment Date\").\n",
      "Payments Payments on the Notes will be made by the Global Agent, as paying agent, on the twenty-fifth (25th) day of each month (or, if such day is not a Business Day, then on the next succeeding Business Day), beginning in March 2016 (each, a \"Payment Date\"), to the persons in whose names such Notes are registered as of the close of business on the immediately preceding Business Day in the case of Book-Entry Notes and as of the close of business on the last day of the preceding month of such Payment Date in the case of Definitive Notes (the \"Record Date\").\n",
      "\tPrincipal Loss Amount: The \"Principal Loss Amount\" with respect to any Payment Date and Loan Group is the sum of: (a) the aggregate amount of Credit Event Net Losses for all Credit Event Reference Obligations in such Loan Group for the related Reporting Period; (b) the aggregate amount of court-approved principal reductions (\"cramdowns\") on the Reference Obligations in such Loan Group in the related Reporting Period; (c) subsequent losses on any Reference Obligation in such Loan Group that became a Credit Event Reference Obligation on a prior Payment Date and with respect to which Net Liquidation Proceeds have already been determined; and 96 (d) amounts included in the second, fourth and sixth priorities under \"Allocation of Modification Loss Amount—Group 1\" below and in the second, fourth and sixth priorities under \"Allocation of Modification Loss Amount—Group 2\" below.\n",
      "\tPrincipal Recovery Amount: The \"Principal Recovery Amount\" with respect to any Payment Date and Loan Group is the sum of: (a) the aggregate amount of Credit Event Net Losses for all Reversed Credit Event Reference Obligations in such Loan Group for the related Reporting Period; (b) subsequent recoveries on any Reference Obligation in such Loan Group that became a Credit Event Reference Obligation on a prior Payment Date and with respect to which Net Liquidation Proceeds have already been determined; (c) the aggregate amount of the Credit Event Net Gains of all Credit Event Reference Obligations in such Loan Group for the related Reporting Period; and (d) the aggregate amount of Rep and Warranty Settlement Amounts for the Reporting Period for such Payment Date and Credit Event Reference Obligations in such Loan Group.\n"
     ]
    }
   ],
   "source": [
    "# using the recursion \n",
    "# need to have access to the cumulation \n",
    "func,cum = decf(get_def_indent,lambda term,it: ([indedge[0],it+1]\n",
    "                for indedge in g.in_edges(term)),num=0)\n",
    "func(term,0)\n",
    "print('\\n'.join(cum))"
   ]
  },
  {
   "cell_type": "code",
   "execution_count": 67,
   "metadata": {},
   "outputs": [
    {
     "name": "stdout",
     "output_type": "stream",
     "text": [
      "Tranche Write-up Amount: Related Definitions The \"Tranche Write-up Amount\" with respect to any Payment Date and Loan Group is the excess, if any, of the Principal Recovery Amount for such Payment Date and Loan Group over the Principal Loss Amount for such Payment Date and Loan Group.\n",
      "\tPayment Date: Payments on the Notes will be made by the Global Agent on the twenty-fifth (25th) day of each month (or, if such day is not a Business Day, then on the next succeeding Business Day) beginning in March 2016 (each, a \"Payment Date\").\n",
      "Payments Payments on the Notes will be made by the Global Agent, as paying agent, on the twenty-fifth (25th) day of each month (or, if such day is not a Business Day, then on the next succeeding Business Day), beginning in March 2016 (each, a \"Payment Date\"), to the persons in whose names such Notes are registered as of the close of business on the immediately preceding Business Day in the case of Book-Entry Notes and as of the close of business on the last day of the preceding month of such Payment Date in the case of Definitive Notes (the \"Record Date\").\n",
      "\tPrincipal Loss Amount: The \"Principal Loss Amount\" with respect to any Payment Date and Loan Group is the sum of: (a) the aggregate amount of Credit Event Net Losses for all Credit Event Reference Obligations in such Loan Group for the related Reporting Period; (b) the aggregate amount of court-approved principal reductions (\"cramdowns\") on the Reference Obligations in such Loan Group in the related Reporting Period; (c) subsequent losses on any Reference Obligation in such Loan Group that became a Credit Event Reference Obligation on a prior Payment Date and with respect to which Net Liquidation Proceeds have already been determined; and 96 (d) amounts included in the second, fourth and sixth priorities under \"Allocation of Modification Loss Amount—Group 1\" below and in the second, fourth and sixth priorities under \"Allocation of Modification Loss Amount—Group 2\" below.\n",
      "\tPrincipal Recovery Amount: The \"Principal Recovery Amount\" with respect to any Payment Date and Loan Group is the sum of: (a) the aggregate amount of Credit Event Net Losses for all Reversed Credit Event Reference Obligations in such Loan Group for the related Reporting Period; (b) subsequent recoveries on any Reference Obligation in such Loan Group that became a Credit Event Reference Obligation on a prior Payment Date and with respect to which Net Liquidation Proceeds have already been determined; (c) the aggregate amount of the Credit Event Net Gains of all Credit Event Reference Obligations in such Loan Group for the related Reporting Period; and (d) the aggregate amount of Rep and Warranty Settlement Amounts for the Reporting Period for such Payment Date and Credit Event Reference Obligations in such Loan Group.\n"
     ]
    }
   ],
   "source": [
    "cum.clear()\n",
    "func(term,0)\n",
    "print('\\n'.join(cum))"
   ]
  },
  {
   "cell_type": "markdown",
   "metadata": {},
   "source": [
    "## Using the functions to write a dictionary of indented term definitions"
   ]
  },
  {
   "cell_type": "code",
   "execution_count": 68,
   "metadata": {},
   "outputs": [],
   "source": [
    "if 0: # make the dictionary termdefdict of definitions\n",
    "    ar = []\n",
    "    for t in termdict.keys():\n",
    "        cum.clear() # clear the accumulator of prior definitions\n",
    "        func(t,0)\n",
    "        ar.append((t,'\\n'.join(cum)))\n",
    "    termdefdict = dict(ar)"
   ]
  },
  {
   "cell_type": "code",
   "execution_count": 70,
   "metadata": {},
   "outputs": [
    {
     "name": "stdout",
     "output_type": "stream",
     "text": [
      "Tranche Write-up Amount: Related Definitions The \"Tranche Write-up Amount\" with respect to any Payment Date and Loan Group is the excess, if any, of the Principal Recovery Amount for such Payment Date and Loan Group over the Principal Loss Amount for such Payment Date and Loan Group.\n",
      "\tPayment Date: Payments on the Notes will be made by the Global Agent on the twenty-fifth (25th) day of each month (or, if such day is not a Business Day, then on the next succeeding Business Day) beginning in March 2016 (each, a \"Payment Date\").\n",
      "Payments Payments on the Notes will be made by the Global Agent, as paying agent, on the twenty-fifth (25th) day of each month (or, if such day is not a Business Day, then on the next succeeding Business Day), beginning in March 2016 (each, a \"Payment Date\"), to the persons in whose names such Notes are registered as of the close of business on the immediately preceding Business Day in the case of Book-Entry Notes and as of the close of business on the last day of the preceding month of such Payment Date in the case of Definitive Notes (the \"Record Date\").\n",
      "\tPrincipal Loss Amount: The \"Principal Loss Amount\" with respect to any Payment Date and Loan Group is the sum of: (a) the aggregate amount of Credit Event Net Losses for all Credit Event Reference Obligations in such Loan Group for the related Reporting Period; (b) the aggregate amount of court-approved principal reductions (\"cramdowns\") on the Reference Obligations in such Loan Group in the related Reporting Period; (c) subsequent losses on any Reference Obligation in such Loan Group that became a Credit Event Reference Obligation on a prior Payment Date and with respect to which Net Liquidation Proceeds have already been determined; and 96 (d) amounts included in the second, fourth and sixth priorities under \"Allocation of Modification Loss Amount—Group 1\" below and in the second, fourth and sixth priorities under \"Allocation of Modification Loss Amount—Group 2\" below.\n",
      "\tPrincipal Recovery Amount: The \"Principal Recovery Amount\" with respect to any Payment Date and Loan Group is the sum of: (a) the aggregate amount of Credit Event Net Losses for all Reversed Credit Event Reference Obligations in such Loan Group for the related Reporting Period; (b) subsequent recoveries on any Reference Obligation in such Loan Group that became a Credit Event Reference Obligation on a prior Payment Date and with respect to which Net Liquidation Proceeds have already been determined; (c) the aggregate amount of the Credit Event Net Gains of all Credit Event Reference Obligations in such Loan Group for the related Reporting Period; and (d) the aggregate amount of Rep and Warranty Settlement Amounts for the Reporting Period for such Payment Date and Credit Event Reference Obligations in such Loan Group.\n"
     ]
    }
   ],
   "source": [
    "print(termdefdict[term])"
   ]
  },
  {
   "cell_type": "code",
   "execution_count": 73,
   "metadata": {},
   "outputs": [],
   "source": [
    "if 0:# add to the shelve\n",
    "    with shelve.open('definitions') as f:\n",
    "        f['termdefdict'] = termdefdict"
   ]
  },
  {
   "cell_type": "code",
   "execution_count": null,
   "metadata": {},
   "outputs": [],
   "source": []
  },
  {
   "cell_type": "code",
   "execution_count": 78,
   "metadata": {},
   "outputs": [
    {
     "name": "stdout",
     "output_type": "stream",
     "text": [
      "Tranche Write-up Amount: Related Definitions The \"Tranche Write-up Amount\" with respect to any Payment Date and Loan Group is the excess, if any, of the Principal Recovery Amount for such Payment Date and Loan Group over the Principal Loss Amount for such Payment Date and Loan Group.\n",
      "\tPayment Date: Payments on the Notes will be made by the Global Agent on the twenty-fifth (25th) day of each month (or, if such day is not a Business Day, then on the next succeeding Business Day) beginning in March 2016 (each, a \"Payment Date\").\n",
      "Payments Payments on the Notes will be made by the Global Agent, as paying agent, on the twenty-fifth (25th) day of each month (or, if such day is not a Business Day, then on the next succeeding Business Day), beginning in March 2016 (each, a \"Payment Date\"), to the persons in whose names such Notes are registered as of the close of business on the immediately preceding Business Day in the case of Book-Entry Notes and as of the close of business on the last day of the preceding month of such Payment Date in the case of Definitive Notes (the \"Record Date\").\n",
      "\tPrincipal Loss Amount: The \"Principal Loss Amount\" with respect to any Payment Date and Loan Group is the sum of: (a) the aggregate amount of Credit Event Net Losses for all Credit Event Reference Obligations in such Loan Group for the related Reporting Period; (b) the aggregate amount of court-approved principal reductions (\"cramdowns\") on the Reference Obligations in such Loan Group in the related Reporting Period; (c) subsequent losses on any Reference Obligation in such Loan Group that became a Credit Event Reference Obligation on a prior Payment Date and with respect to which Net Liquidation Proceeds have already been determined; and 96 (d) amounts included in the second, fourth and sixth priorities under \"Allocation of Modification Loss Amount—Group 1\" below and in the second, fourth and sixth priorities under \"Allocation of Modification Loss Amount—Group 2\" below.\n",
      "\tPrincipal Recovery Amount: The \"Principal Recovery Amount\" with respect to any Payment Date and Loan Group is the sum of: (a) the aggregate amount of Credit Event Net Losses for all Reversed Credit Event Reference Obligations in such Loan Group for the related Reporting Period; (b) subsequent recoveries on any Reference Obligation in such Loan Group that became a Credit Event Reference Obligation on a prior Payment Date and with respect to which Net Liquidation Proceeds have already been determined; (c) the aggregate amount of the Credit Event Net Gains of all Credit Event Reference Obligations in such Loan Group for the related Reporting Period; and (d) the aggregate amount of Rep and Warranty Settlement Amounts for the Reporting Period for such Payment Date and Credit Event Reference Obligations in such Loan Group.\n"
     ]
    }
   ],
   "source": [
    "print(termdefdict[term])"
   ]
  },
  {
   "cell_type": "code",
   "execution_count": 23,
   "metadata": {},
   "outputs": [],
   "source": [
    "if 0: # Writing a term dictionary with indented definitions: execute by replace 0 with 1\n",
    "    with open('term_dict.txt','w') as f:\n",
    "        for line in cum: f.write(line+\"\\n\")"
   ]
  },
  {
   "cell_type": "markdown",
   "metadata": {
    "collapsed": true
   },
   "source": [
    "## Using the recursion to write a series of indented dependent formulae"
   ]
  },
  {
   "cell_type": "code",
   "execution_count": 85,
   "metadata": {},
   "outputs": [
    {
     "data": {
      "text/plain": [
       "'TrWrAm: [Tranche Write-up Amount]: (PayDat, PrLosAm, PrRecAm)\\n'"
      ]
     },
     "execution_count": 85,
     "metadata": {},
     "output_type": "execute_result"
    }
   ],
   "source": [
    "#How to make a tentative formula, for editing and encoding\n",
    "get_formula = lambda term,line=False,g=g: dlm[0].join((gutils.acro(term),'['+term+']')) + dlm[0] +'('+ dlm[1].join((gutils.acro(edge[0]) \n",
    "                                                        for edge in g.in_edges(term)) )+')'+ (\"\\n\" if line else '')\n",
    "get_formula(term,1)"
   ]
  },
  {
   "cell_type": "code",
   "execution_count": 86,
   "metadata": {},
   "outputs": [
    {
     "data": {
      "text/plain": [
       "'\\t\\tTrWrAm: [Tranche Write-up Amount]: (PayDat, PrLosAm, PrRecAm)'"
      ]
     },
     "execution_count": 86,
     "metadata": {},
     "output_type": "execute_result"
    }
   ],
   "source": [
    "get_formula_indent = lambda x,indent=0: '\\t'*indent + get_formula(x)\n",
    "get_formula_indent(term,2)"
   ]
  },
  {
   "cell_type": "code",
   "execution_count": 103,
   "metadata": {},
   "outputs": [],
   "source": [
    "# set up temporary formulae for all definitions needed for term = Tranche Write-up Amount\n",
    "func,cum_form = decf(get_formula_indent,lambda term,it: ([indedge[0],it+1]\n",
    "                for indedge in g.in_edges(term)),num=1,it=0)\n",
    "func(term0,0)"
   ]
  },
  {
   "cell_type": "code",
   "execution_count": 102,
   "metadata": {},
   "outputs": [],
   "source": [
    "cum_form.clear()"
   ]
  },
  {
   "cell_type": "code",
   "execution_count": 27,
   "metadata": {},
   "outputs": [],
   "source": [
    "# write a formula dictionary: execute by replace 0 with 1\n",
    "if 0:\n",
    "    with open('formula_dict.txt','w') as f:\n",
    "        for line in cum_form: f.write(line+\"\\n\")"
   ]
  },
  {
   "cell_type": "code",
   "execution_count": 104,
   "metadata": {},
   "outputs": [],
   "source": [
    "if 1: # make the dictionary termdefdict of definitions\n",
    "    ar = []\n",
    "    for t in termdict.keys():\n",
    "        cum_form.clear() # clear the accumulator of prior definitions\n",
    "        func(t,0)\n",
    "        ar.append((t,'\\n'.join(cum_form)))\n",
    "    formuladict = dict(ar)"
   ]
  },
  {
   "cell_type": "code",
   "execution_count": 106,
   "metadata": {},
   "outputs": [
    {
     "name": "stdout",
     "output_type": "stream",
     "text": [
      "Tranche Write-up Amount: Related Definitions The \"Tranche Write-up Amount\" with respect to any Payment Date and Loan Group is the excess, if any, of the Principal Recovery Amount for such Payment Date and Loan Group over the Principal Loss Amount for such Payment Date and Loan Group.\n",
      "\tPayment Date: Payments on the Notes will be made by the Global Agent on the twenty-fifth (25th) day of each month (or, if such day is not a Business Day, then on the next succeeding Business Day) beginning in March 2016 (each, a \"Payment Date\").\n",
      "Payments Payments on the Notes will be made by the Global Agent, as paying agent, on the twenty-fifth (25th) day of each month (or, if such day is not a Business Day, then on the next succeeding Business Day), beginning in March 2016 (each, a \"Payment Date\"), to the persons in whose names such Notes are registered as of the close of business on the immediately preceding Business Day in the case of Book-Entry Notes and as of the close of business on the last day of the preceding month of such Payment Date in the case of Definitive Notes (the \"Record Date\").\n",
      "\tPrincipal Loss Amount: The \"Principal Loss Amount\" with respect to any Payment Date and Loan Group is the sum of: (a) the aggregate amount of Credit Event Net Losses for all Credit Event Reference Obligations in such Loan Group for the related Reporting Period; (b) the aggregate amount of court-approved principal reductions (\"cramdowns\") on the Reference Obligations in such Loan Group in the related Reporting Period; (c) subsequent losses on any Reference Obligation in such Loan Group that became a Credit Event Reference Obligation on a prior Payment Date and with respect to which Net Liquidation Proceeds have already been determined; and 96 (d) amounts included in the second, fourth and sixth priorities under \"Allocation of Modification Loss Amount—Group 1\" below and in the second, fourth and sixth priorities under \"Allocation of Modification Loss Amount—Group 2\" below.\n",
      "\tPrincipal Recovery Amount: The \"Principal Recovery Amount\" with respect to any Payment Date and Loan Group is the sum of: (a) the aggregate amount of Credit Event Net Losses for all Reversed Credit Event Reference Obligations in such Loan Group for the related Reporting Period; (b) subsequent recoveries on any Reference Obligation in such Loan Group that became a Credit Event Reference Obligation on a prior Payment Date and with respect to which Net Liquidation Proceeds have already been determined; (c) the aggregate amount of the Credit Event Net Gains of all Credit Event Reference Obligations in such Loan Group for the related Reporting Period; and (d) the aggregate amount of Rep and Warranty Settlement Amounts for the Reporting Period for such Payment Date and Credit Event Reference Obligations in such Loan Group.\n",
      "TrWrAm: [Tranche Write-up Amount]: (PayDat, PrLosAm, PrRecAm)\n",
      "\tPayDat: [Payment Date]: (GlAg, BusDay, DefNot, BoNot, RecDat)\n",
      "\t\tGlAg: [Global Agent]: (GlAgAgr, WelFarBan, WelFar)\n",
      "\t\tBusDay: [Business Day]: (GlAg)\n",
      "\t\tDefNot: [Definitive Notes]: (BoNot)\n",
      "\t\tBoNot: [Book-Entry Notes]: (NotOwn, ClDat, Cl, Eur)\n",
      "\t\tRecDat: [Record Date]: (PayDat, GlAg, BusDay, DefNot, BoNot)\n",
      "\tPrLosAm: [Principal Loss Amount]: (PayDat, ModLosAm, RefObl, Per, CrEvRefObl, CrEv, LiqPr, RepPer, CrEvNetLos, NetLiqPr)\n",
      "\t\tPayDat: [Payment Date]: (GlAg, BusDay, DefNot, BoNot, RecDat)\n",
      "\t\tModLosAm: [Modification Loss Amount]: (PayDat, OrAccRat, ModEv, CurAccRat)\n",
      "\t\tRefObl: [Reference Obligations]: (CutDat, RefPo)\n",
      "\t\tPer: [Period]: (WelFarBan, WelFar)\n",
      "\t\tCrEvRefObl: [Credit Event Reference Obligation]: (PayDat, CrEv)\n",
      "\t\tCrEv: [Credit Event]: (PayDat, Per, RepPer, GrTerDat)\n",
      "\t\tLiqPr: [Liquidation Proceeds]: (CrEvRefObl, CrEv)\n",
      "\t\tRepPer: [Reporting Period]: (PayDat, Per)\n",
      "\t\tCrEvNetLos: [Credit Event Net Loss]: (CrEvRefObl, CurAccRat, CrEvUPB, CrEv, LiqPr, NetLiqPr)\n",
      "\t\tNetLiqPr: [Net Liquidation Proceeds]: (CrEvRefObl, CrEv, LiqPr, MorInsCrAm)\n",
      "\tPrRecAm: [Principal Recovery Amount]: (PayDat, War, RefObl, Per, CrEvRefObl, CrEvNetGa, CrEv, LiqPr, RepPer, CrEvNetLos, NetLiqPr)\n",
      "\t\tPayDat: [Payment Date]: (GlAg, BusDay, DefNot, BoNot, RecDat)\n",
      "\t\tWar: [Warrant]: (Tr)\n",
      "\t\tRefObl: [Reference Obligations]: (CutDat, RefPo)\n",
      "\t\tPer: [Period]: (WelFarBan, WelFar)\n",
      "\t\tCrEvRefObl: [Credit Event Reference Obligation]: (PayDat, CrEv)\n",
      "\t\tCrEvNetGa: [Credit Event Net Gain]: (CrEvRefObl, CurAccRat, CrEvUPB, CrEv, LiqPr, NetLiqPr)\n",
      "\t\tCrEv: [Credit Event]: (PayDat, Per, RepPer, GrTerDat)\n",
      "\t\tLiqPr: [Liquidation Proceeds]: (CrEvRefObl, CrEv)\n",
      "\t\tRepPer: [Reporting Period]: (PayDat, Per)\n",
      "\t\tCrEvNetLos: [Credit Event Net Loss]: (CrEvRefObl, CurAccRat, CrEvUPB, CrEv, LiqPr, NetLiqPr)\n",
      "\t\tNetLiqPr: [Net Liquidation Proceeds]: (CrEvRefObl, CrEv, LiqPr, MorInsCrAm)\n"
     ]
    }
   ],
   "source": [
    "print(termdefdict[term])\n",
    "print(formuladict[term])"
   ]
  },
  {
   "cell_type": "code",
   "execution_count": 107,
   "metadata": {},
   "outputs": [],
   "source": [
    "if 1:# add to the shelve\n",
    "    with shelve.open('definitions') as f:\n",
    "        f['acrodict'] = acrodict\n",
    "        f['racrodict'] = racrodict\n",
    "        f['formuladict'] = formuladict"
   ]
  },
  {
   "cell_type": "markdown",
   "metadata": {},
   "source": [
    "# Revising Graph - Delete nodes for terms not used in formulae "
   ]
  },
  {
   "cell_type": "markdown",
   "metadata": {},
   "source": [
    "We've seen some nodes, like Credit Event which, although important, do not appear in formulae.  We want to delete them systematically from our graph for purposes of creating the formulae which will become our pseudocode"
   ]
  },
  {
   "cell_type": "markdown",
   "metadata": {},
   "source": [
    "## A sketch of \"memoizing\""
   ]
  },
  {
   "cell_type": "code",
   "execution_count": 28,
   "metadata": {},
   "outputs": [
    {
     "name": "stdout",
     "output_type": "stream",
     "text": [
      "found it\n"
     ]
    },
    {
     "data": {
      "text/plain": [
       "6"
      ]
     },
     "execution_count": 28,
     "metadata": {},
     "output_type": "execute_result"
    }
   ],
   "source": [
    "def memo(f):\n",
    "    \"\"\"Decorator that caches the return value for each call to f(args).\n",
    "    Then when called again with same args, we can just look it up.\"\"\"\n",
    "    cache = {}\n",
    "    def _f(*args):\n",
    "        try:\n",
    "            if args in cache: print(\"found it\")\n",
    "            return cache[args]\n",
    "        except KeyError:\n",
    "            cache[args] = result = f(*args)\n",
    "            return result\n",
    "        except TypeError:\n",
    "            # some element of args can't be a dict key\n",
    "            return f(args)\n",
    "    return _f\n",
    "@memo\n",
    "def f(x):return x*2\n",
    "f(3)\n",
    "f(3)"
   ]
  },
  {
   "cell_type": "code",
   "execution_count": 29,
   "metadata": {},
   "outputs": [
    {
     "name": "stdout",
     "output_type": "stream",
     "text": [
      "Tranche Write-up Amount\n"
     ]
    },
    {
     "data": {
      "text/plain": [
       "('PrAm', 'PrAm0', 'PrAm1')"
      ]
     },
     "execution_count": 29,
     "metadata": {},
     "output_type": "execute_result"
    }
   ],
   "source": [
    "def nocollision(f):\n",
    "    cache = []\n",
    "    def _f(arg,reset=False):\n",
    "        if reset: \n",
    "            cache.clear()\n",
    "            return\n",
    "        #print(cache)\n",
    "        i = 0\n",
    "        baseresult = f(arg)\n",
    "        result = baseresult\n",
    "        while result in cache:\n",
    "            assert i < 100, 'Problems with arg %s, f(arg) %s, and i %i' %(arg,result,i)\n",
    "            #print(result)\n",
    "            result = baseresult + str(i)\n",
    "            i+=1\n",
    "        cache.append(result)\n",
    "        return result\n",
    "    return _f\n",
    "print(term)\n",
    "\n",
    "@nocollision\n",
    "def acro(term): return gutils.acro(term)\n",
    "\n",
    "acro('Principal Amount'),acro('Private Amount'),acro('Press Amonia')"
   ]
  },
  {
   "cell_type": "markdown",
   "metadata": {},
   "source": [
    "## Set up some automated acronyms for easy reading"
   ]
  },
  {
   "cell_type": "code",
   "execution_count": 30,
   "metadata": {},
   "outputs": [
    {
     "data": {
      "text/plain": [
       "[('RCR Notes', 'RCRNot'),\n",
       " ('Exchangeable Notes', 'ExcNot'),\n",
       " ('Dealer', 'De'),\n",
       " ('Additional Information', 'AddInf'),\n",
       " ('Qualified Institutional Buyers', 'QuInsBuy')]"
      ]
     },
     "execution_count": 30,
     "metadata": {},
     "output_type": "execute_result"
    }
   ],
   "source": [
    "#acro('xyz',reset = 1)\n",
    "acrodict = dict([k,acro(k)] for k in termdict.keys()) # a dcitionary\n",
    "racrodict = dict(((v,k) for k,v in acrodict.items()))\n",
    "list(acrodict.items())[:5]#,racrodict['RCRNot']"
   ]
  },
  {
   "cell_type": "code",
   "execution_count": 31,
   "metadata": {},
   "outputs": [],
   "source": [
    "rexdef = '\\(([\\w, ]+)\\)'\n",
    "def get_formula_terms(fn):\n",
    "    with open(fn) as f: text = f.read()\n",
    "    return set([w for e in re.findall(rexdef,text) for w in re.split('\\W',e) if w])\n",
    "bigs,smalls = [get_formula_terms(fn) for fn in ('formula_dict.txt trancheWrite-upFormula_ed.txt'.split())]"
   ]
  },
  {
   "cell_type": "code",
   "execution_count": 32,
   "metadata": {},
   "outputs": [
    {
     "data": {
      "text/plain": [
       "{'Bar',\n",
       " 'BofMer',\n",
       " 'Cit',\n",
       " 'Cl',\n",
       " 'ClDat',\n",
       " 'ClInt',\n",
       " 'CrSu',\n",
       " 'De',\n",
       " 'DeAgr',\n",
       " 'Eur',\n",
       " 'EurPar',\n",
       " 'GlAgAgr',\n",
       " 'Gr1Not',\n",
       " 'Gr1TerDat',\n",
       " 'Gr2TerDat',\n",
       " 'GrTerDat',\n",
       " 'IndPar',\n",
       " 'JPMor',\n",
       " 'NotOwn',\n",
       " 'Par',\n",
       " 'PrLosAm',\n",
       " 'PrRecAm',\n",
       " 'RefObl',\n",
       " 'RefPo',\n",
       " 'Tr',\n",
       " 'War',\n",
       " 'WelFar',\n",
       " 'WelFarBan'}"
      ]
     },
     "execution_count": 32,
     "metadata": {},
     "output_type": "execute_result"
    }
   ],
   "source": [
    "bigs - smalls"
   ]
  },
  {
   "cell_type": "code",
   "execution_count": 33,
   "metadata": {},
   "outputs": [
    {
     "data": {
      "text/plain": [
       "({'Bar',\n",
       "  'BofMer',\n",
       "  'Cit',\n",
       "  'Cl',\n",
       "  'ClDat',\n",
       "  'ClInt',\n",
       "  'CrSu',\n",
       "  'De',\n",
       "  'DeAgr',\n",
       "  'Eur',\n",
       "  'EurPar',\n",
       "  'GlAgAgr',\n",
       "  'Gr1Not',\n",
       "  'Gr1TerDat',\n",
       "  'Gr2TerDat',\n",
       "  'GrTerDat',\n",
       "  'IndPar',\n",
       "  'JPMor',\n",
       "  'NotOwn',\n",
       "  'Par',\n",
       "  'PrLosAm',\n",
       "  'PrRecAm',\n",
       "  'RefObl',\n",
       "  'RefPo',\n",
       "  'Tr',\n",
       "  'War',\n",
       "  'WelFar',\n",
       "  'WelFarBan'},\n",
       " [(0, 'Treasury'),\n",
       "  (1, 'Reference Pool'),\n",
       "  (2, 'Dealer'),\n",
       "  (3, 'Projected Recovery Amount'),\n",
       "  (4, 'BofA Merrill'),\n",
       "  (5, 'Warrant'),\n",
       "  (6, 'Credit Suisse'),\n",
       "  (7, 'Euroclear'),\n",
       "  (8, 'Reference Obligations'),\n",
       "  (9, 'Wells Fargo Bank'),\n",
       "  (10, 'Principal Loss Amount'),\n",
       "  (11, 'Closing Date'),\n",
       "  (12, 'Participants'),\n",
       "  (13, 'Clearstream'),\n",
       "  (14, 'Group 1 Notes'),\n",
       "  (15, 'Dealer Agreement'),\n",
       "  (16, 'Clearstream International'),\n",
       "  (17, 'Indirect Participants'),\n",
       "  (18, 'Barclays'),\n",
       "  (19, 'Group Termination Date'),\n",
       "  (20, 'Citigroup'),\n",
       "  (21, 'Group 2 Termination Date'),\n",
       "  (22, 'Global Agency Agreement'),\n",
       "  (23, 'Note Owners'),\n",
       "  (24, 'Group 1 Termination Date'),\n",
       "  (25, 'Wells Fargo'),\n",
       "  (26, 'Euroclear Participants'),\n",
       "  (27, 'JP Morgan')])"
      ]
     },
     "execution_count": 33,
     "metadata": {},
     "output_type": "execute_result"
    }
   ],
   "source": [
    "diff = bigs - smalls\n",
    "difft = [racrodict[t] for t in list(diff) if t in racrodict]\n",
    "diff,list(enumerate(difft))"
   ]
  },
  {
   "cell_type": "code",
   "execution_count": 35,
   "metadata": {},
   "outputs": [
    {
     "name": "stdout",
     "output_type": "stream",
     "text": [
      "[1, 1, 2, 4, 5, 7, 8, 11, 12, 13, 14, 15, 17, 19, 23, 24, 25, 26, 27]\n"
     ]
    },
    {
     "data": {
      "text/plain": [
       "['Reference Pool',\n",
       " 'Dealer',\n",
       " 'BofA Merrill',\n",
       " 'Warrant',\n",
       " 'Euroclear',\n",
       " 'Reference Obligations',\n",
       " 'Closing Date',\n",
       " 'Participants',\n",
       " 'Clearstream',\n",
       " 'Group 1 Notes',\n",
       " 'Dealer Agreement',\n",
       " 'Indirect Participants',\n",
       " 'Group Termination Date',\n",
       " 'Note Owners',\n",
       " 'Group 1 Termination Date',\n",
       " 'Wells Fargo',\n",
       " 'Euroclear Participants',\n",
       " 'JP Morgan']"
      ]
     },
     "execution_count": 35,
     "metadata": {},
     "output_type": "execute_result"
    }
   ],
   "source": [
    "from functools import reduce\n",
    "def f(s):\n",
    "    ss = s.split('-')\n",
    "    #print(ss)\n",
    "    if len(ss) > 1:\n",
    "        a,b = ss\n",
    "        return list(range(int(a),int(b)))\n",
    "    else: return int(ss[0])\n",
    "q = list(map(f,'1 2 4 5 7 8 11-16 17 19 23 24-28'.split(' ')))\n",
    "def f(c,e):\n",
    "    if isinstance(e,list): return c + e\n",
    "    else:\n",
    "        c.append(e)\n",
    "        return c\n",
    "q = reduce(f,q,[q[0]])\n",
    "print(q)\n",
    "xnodes = [difft[i] for i in range(len(difft)) if i in q ]\n",
    "with open('nodes2delete.txt','w') as f: f.write(' ; '.join(xnodes))\n",
    "xnodes"
   ]
  },
  {
   "cell_type": "code",
   "execution_count": 81,
   "metadata": {},
   "outputs": [
    {
     "name": "stdout",
     "output_type": "stream",
     "text": [
      "192\n",
      "Removing node Euroclear\n",
      "Removing node Dealer Agreement\n",
      "Removing node JP Morgan\n",
      "Removing node Clearstream\n",
      "Removing node Citigroup\n",
      "Removing node Indirect Participants\n",
      "Removing node Warrant\n",
      "Removing node Wells Fargo\n",
      "Removing node Dealer\n",
      "Removing node Treasury\n",
      "Removing node Clearstream International\n",
      "Removing node Wells Fargo Bank\n",
      "Removing node BofA Merrill\n",
      "Removing node Global Agency Agreement\n",
      "Removing node Participants\n",
      "Removing node Credit Suisse\n",
      "Removing node Barclays\n",
      "Removing node Euroclear Participants\n",
      "174\n"
     ]
    }
   ],
   "source": [
    "#difft+= 'Credit Event;Payment Date;Business Day;Reporting Period;Period;Credit Event Reference Obligation'.split(';')\n",
    "cleangraph = graph.copy()\n",
    "print(len(cleangraph))\n",
    "for term in xnodes:\n",
    "    if term in cleangraph.nodes():\n",
    "        print(\"Removing node %s\" % term)\n",
    "        cleangraph.remove_node(term)\n",
    "print(len(cleangraph))"
   ]
  },
  {
   "cell_type": "code",
   "execution_count": 82,
   "metadata": {},
   "outputs": [
    {
     "data": {
      "text/plain": [
       "(174, 192)"
      ]
     },
     "execution_count": 82,
     "metadata": {},
     "output_type": "execute_result"
    }
   ],
   "source": [
    "len(cleangraph),len(graph)"
   ]
  },
  {
   "cell_type": "code",
   "execution_count": 83,
   "metadata": {},
   "outputs": [
    {
     "data": {
      "text/plain": [
       "(InEdgeDataView([('Payment Date', 'Senior Reduction Amount'), ('Recovery Principal', 'Senior Reduction Amount'), ('Unscheduled Principal', 'Senior Reduction Amount'), ('Scheduled Principal', 'Senior Reduction Amount'), ('Minimum Credit Enhancement Test', 'Senior Reduction Amount'), ('Delinquency Test', 'Senior Reduction Amount')]),\n",
       " InEdgeDataView([('Payment Date', 'Senior Reduction Amount'), ('Recovery Principal', 'Senior Reduction Amount'), ('Unscheduled Principal', 'Senior Reduction Amount'), ('Scheduled Principal', 'Senior Reduction Amount'), ('Minimum Credit Enhancement Test', 'Senior Reduction Amount'), ('Delinquency Test', 'Senior Reduction Amount')]))"
      ]
     },
     "execution_count": 83,
     "metadata": {},
     "output_type": "execute_result"
    }
   ],
   "source": [
    "g.in_edges(term0),cleangraph.in_edges(term0)#\"Senior Reduction Amount\")"
   ]
  },
  {
   "cell_type": "code",
   "execution_count": 84,
   "metadata": {},
   "outputs": [
    {
     "data": {
      "text/plain": [
       "'\\t\\tEurPar: [Euroclear Participants]: ()'"
      ]
     },
     "execution_count": 84,
     "metadata": {},
     "output_type": "execute_result"
    }
   ],
   "source": [
    "#How to make a tentative formula, for editing and encoding\n",
    "get_formula = lambda term,line=False,g=cleangraph: dlm[0].join((gutils.acro(term),'['+term+']')) + dlm[0] +'('+ dlm[1].join((gutils.acro(edge[0]) \n",
    "                                                        for edge in g.in_edges(term)) )+')'+ (\"\\n\" if line else '')\n",
    "get_formula(term,1)\n",
    "\n",
    "get_formula_indent = lambda x,indent=0: '\\t'*indent + get_formula(x)\n",
    "get_formula_indent(term,2)"
   ]
  },
  {
   "cell_type": "code",
   "execution_count": 85,
   "metadata": {},
   "outputs": [
    {
     "data": {
      "text/plain": [
       "InEdgeDataView([('Payment Date', 'Credit Event'), ('Period', 'Credit Event'), ('Reporting Period', 'Credit Event'), ('Group Termination Date', 'Credit Event')])"
      ]
     },
     "execution_count": 85,
     "metadata": {},
     "output_type": "execute_result"
    }
   ],
   "source": [
    "cleangraph.in_edges('Credit Event')"
   ]
  },
  {
   "cell_type": "code",
   "execution_count": 86,
   "metadata": {},
   "outputs": [
    {
     "name": "stdout",
     "output_type": "stream",
     "text": [
      "[]\n"
     ]
    }
   ],
   "source": [
    "func,cum_form = decf(lambda x: x, lambda x: ([x+1],))\n",
    "print(cum_form)"
   ]
  },
  {
   "cell_type": "code",
   "execution_count": 87,
   "metadata": {},
   "outputs": [
    {
     "data": {
      "text/plain": [
       "['SenRedAm: [Senior Reduction Amount]: (PayDat, RecPr, UnsPr, SchPr, MinCrEnhTes, DelTes)',\n",
       " '\\tPayDat: [Payment Date]: (GlAg, BusDay, DefNot, BoNot, RecDat)',\n",
       " '\\t\\tGlAg: [Global Agent]: ()']"
      ]
     },
     "execution_count": 87,
     "metadata": {},
     "output_type": "execute_result"
    }
   ],
   "source": [
    "func,cum_form = decf(get_formula_indent,lambda term,it: ([indedge[0],it+1]\n",
    "                for indedge in cleangraph.in_edges(term)))\n",
    "func(term0,0)\n",
    "cum_form[:3]"
   ]
  },
  {
   "cell_type": "code",
   "execution_count": 88,
   "metadata": {},
   "outputs": [],
   "source": [
    "if 1:\n",
    "    with open('formula_dict_clean.txt','w') as f:\n",
    "        for line in cum_form: f.write(line+\"\\n\")"
   ]
  },
  {
   "cell_type": "code",
   "execution_count": 95,
   "metadata": {},
   "outputs": [],
   "source": [
    "with shelve.open('clean_graph_termdict.slv') as db:\n",
    "    for k,obj in zip('clean_graph termdict'.split(),(cleangraph,termdict)):\n",
    "        db[k] = obj"
   ]
  },
  {
   "cell_type": "markdown",
   "metadata": {},
   "source": [
    "## New Data Shelve"
   ]
  },
  {
   "cell_type": "code",
   "execution_count": 100,
   "metadata": {},
   "outputs": [
    {
     "name": "stdout",
     "output_type": "stream",
     "text": [
      "[(1823, 'Related Definitions The \"Senior Reduction Amount\" with respect to any Payment Date and Loan Group is either: (A) if any of the Minimum Credit Enhancement Test and the Delinquency Test for such Loan Group is not satisfied, the sum of: (i) the Senior Percentage of the Scheduled Principal for such Payment Date and Loan Group; (ii) 100% of the Unscheduled Principal for such Payment Date and Loan Group; and (iii) 100% of the Recovery Principal for such Payment Date and Loan Group; or (B) if the Minimum Credit Enhancement Test and the Delinquency Test for such Loan Group are satisfied, the sum of: (i) the Senior Percentage of the Scheduled Principal for such Payment Date and Loan Group; (ii) the Senior Percentage of the Unscheduled Principal for such Payment Date and Loan Group; and (iii) 100% of the Recovery Principal for such Payment Date and Loan Group.')]\n"
     ]
    },
    {
     "data": {
      "text/plain": [
       "InEdgeDataView([('Payment Date', 'Senior Reduction Amount'), ('Recovery Principal', 'Senior Reduction Amount'), ('Unscheduled Principal', 'Senior Reduction Amount'), ('Scheduled Principal', 'Senior Reduction Amount'), ('Minimum Credit Enhancement Test', 'Senior Reduction Amount'), ('Delinquency Test', 'Senior Reduction Amount')])"
      ]
     },
     "execution_count": 100,
     "metadata": {},
     "output_type": "execute_result"
    }
   ],
   "source": [
    "objdict={}\n",
    "with shelve.open('clean_graph_termdict.slv') as db:\n",
    "    for k in 'clean_graph termdict'.split():\n",
    "        objdict[k] = db[k]\n",
    "print(objdict['termdict']['Senior Reduction Amount'])\n",
    "graph = objdict['clean_graph']\n",
    "g = graph.copy()\n",
    "g.in_edges('Senior Reduction Amount')"
   ]
  },
  {
   "cell_type": "markdown",
   "metadata": {},
   "source": [
    "## Check that empty formulae should be empty"
   ]
  },
  {
   "cell_type": "code",
   "execution_count": 89,
   "metadata": {},
   "outputs": [
    {
     "name": "stdout",
     "output_type": "stream",
     "text": [
      "[(1856, 'The \"Liquidation Proceeds\" with respect to a Credit Event Reference Obligation represent all cash amounts (including sales proceeds, net of selling expenses) received in connection with the liquidation of the Credit Event Reference Obligation.')]\n",
      "[(1854, 'The \"Credit Event UPB\" with respect to any Credit Event Reference Obligation is the unpaid principal balance thereof as of the end of the Reporting Period related to the Payment Date that it became a Credit Event Reference Obligation.')]\n",
      "[(1856, 'The \"Liquidation Proceeds\" with respect to a Credit Event Reference Obligation represent all cash amounts (including sales proceeds, net of selling expenses) received in connection with the liquidation of the Credit Event Reference Obligation.')]\n"
     ]
    }
   ],
   "source": [
    "for term in 'LiqPr CrEvUPB LiqPr'.split():\n",
    "    print(termdict[racrodict[term]])"
   ]
  },
  {
   "cell_type": "code",
   "execution_count": 93,
   "metadata": {},
   "outputs": [
    {
     "ename": "TypeError",
     "evalue": "<lambda>() missing 1 required positional argument: 'term'",
     "output_type": "error",
     "traceback": [
      "\u001b[1;31m---------------------------------------------------------------------------\u001b[0m",
      "\u001b[1;31mTypeError\u001b[0m                                 Traceback (most recent call last)",
      "\u001b[1;32m<ipython-input-93-fa6048d543a5>\u001b[0m in \u001b[0;36m<module>\u001b[1;34m()\u001b[0m\n\u001b[0;32m      5\u001b[0m         \u001b[1;32mfor\u001b[0m \u001b[0mtab\u001b[0m\u001b[1;33m,\u001b[0m\u001b[0mk\u001b[0m \u001b[1;32min\u001b[0m \u001b[0mar\u001b[0m\u001b[1;33m:\u001b[0m\u001b[1;33m\u001b[0m\u001b[0m\n\u001b[0;32m      6\u001b[0m             \u001b[1;32mfor\u001b[0m \u001b[0mdfn\u001b[0m \u001b[1;32min\u001b[0m \u001b[0mtermdict\u001b[0m\u001b[1;33m[\u001b[0m\u001b[0mk\u001b[0m\u001b[1;33m]\u001b[0m\u001b[1;33m:\u001b[0m\u001b[1;33m\u001b[0m\u001b[0m\n\u001b[1;32m----> 7\u001b[1;33m                 \u001b[0mf\u001b[0m\u001b[1;33m.\u001b[0m\u001b[0mwrite\u001b[0m\u001b[1;33m(\u001b[0m\u001b[1;34m''\u001b[0m\u001b[1;33m.\u001b[0m\u001b[0mjoin\u001b[0m\u001b[1;33m(\u001b[0m\u001b[1;33m(\u001b[0m\u001b[1;34m'\\t'\u001b[0m\u001b[1;33m*\u001b[0m\u001b[1;33m(\u001b[0m\u001b[0mtab\u001b[0m\u001b[1;33m+\u001b[0m\u001b[1;36m1\u001b[0m\u001b[1;33m)\u001b[0m\u001b[1;33m,\u001b[0m\u001b[0mget_formula\u001b[0m\u001b[1;33m(\u001b[0m\u001b[1;33m)\u001b[0m\u001b[1;33m)\u001b[0m\u001b[1;33m)\u001b[0m\u001b[1;33m)\u001b[0m\u001b[1;33m\u001b[0m\u001b[0m\n\u001b[0m",
      "\u001b[1;31mTypeError\u001b[0m: <lambda>() missing 1 required positional argument: 'term'"
     ]
    }
   ],
   "source": [
    "if 1:\n",
    "    with open(term+'_formula.txt','w') as f:\n",
    "        f.write(get_formula(term,1))\n",
    "        for edge in g.in_edges(term): f.write(get_formula(edge[0]),1)\n",
    "        for tab,k in ar:\n",
    "            for dfn in termdict[k]:\n",
    "                f.write(''.join(('\\t'*(tab+1),get_formula())))"
   ]
  },
  {
   "cell_type": "code",
   "execution_count": 51,
   "metadata": {},
   "outputs": [
    {
     "data": {
      "text/plain": [
       "'RepandWarSetAm'"
      ]
     },
     "execution_count": 51,
     "metadata": {},
     "output_type": "execute_result"
    }
   ],
   "source": [
    "gutils.acro('Rep and Warranty Settlement Amounts')"
   ]
  },
  {
   "cell_type": "code",
   "execution_count": 92,
   "metadata": {},
   "outputs": [
    {
     "data": {
      "text/plain": [
       "[(1861,\n",
       "  'The \"Net Liquidation Proceeds\" with respect to any Credit Event Reference Obligation are the sum of the related Liquidation Proceeds, any Mortgage Insurance Credit Amount, and any proceeds received from the related servicer in connection with such Credit Event Reference Obligation, less related expenses and credits, including but not limited to taxes and insurance, legal costs, maintenance and preservation costs, in each case during the period including the month in which such Reference Obligation became a Credit Event Reference Obligation together with the immediately following three-month period.')]"
      ]
     },
     "execution_count": 92,
     "metadata": {},
     "output_type": "execute_result"
    }
   ],
   "source": [
    "termdict['Net Liquidation Proceeds']"
   ]
  },
  {
   "cell_type": "code",
   "execution_count": 277,
   "metadata": {},
   "outputs": [
    {
     "data": {
      "text/plain": [
       "[(13, 'See \"Additional Information\" herein.')]"
      ]
     },
     "execution_count": 277,
     "metadata": {},
     "output_type": "execute_result"
    }
   ],
   "source": [
    "acrodef = lambda acro: termdict[racrodict[acro]]\n",
    "acrodef('AddInf')"
   ]
  },
  {
   "cell_type": "code",
   "execution_count": 307,
   "metadata": {},
   "outputs": [
    {
     "data": {
      "text/plain": [
       "[(1852,\n",
       "  'The \"Credit Event Net Loss\" with respect to any Credit Event Reference Obligation is an amount equal to the excess, if any, of: (a) the sum of: (i) the related Credit Event UPB; (ii) the total amount of prior principal forgiveness modifications, if any, on the related Credit Event Reference Obligation; and (iii) delinquent accrued interest thereon, calculated at the related Current Accrual Rate from the related last paid interest date through the date such Reference Obligation has been reported as a Credit Event Reference Obligation, over 93 (b) the related Net Liquidation Proceeds.')]"
      ]
     },
     "execution_count": 307,
     "metadata": {},
     "output_type": "execute_result"
    }
   ],
   "source": [
    "acrodef('CrEvNetLos')"
   ]
  },
  {
   "cell_type": "code",
   "execution_count": 302,
   "metadata": {},
   "outputs": [
    {
     "data": {
      "text/plain": [
       "[('Reporting Period', 'Principal Loss Amount'),\n",
       " ('Reference Obligations', 'Principal Loss Amount'),\n",
       " ('Modification Loss Amount', 'Principal Loss Amount'),\n",
       " ('Liquidation Proceeds', 'Principal Loss Amount'),\n",
       " ('Credit Event', 'Principal Loss Amount'),\n",
       " ('Period', 'Principal Loss Amount'),\n",
       " ('Net Liquidation Proceeds', 'Principal Loss Amount'),\n",
       " ('Payment Date', 'Principal Loss Amount'),\n",
       " ('Credit Event Net Loss', 'Principal Loss Amount'),\n",
       " ('Credit Event Reference Obligation', 'Principal Loss Amount')]"
      ]
     },
     "execution_count": 302,
     "metadata": {},
     "output_type": "execute_result"
    }
   ],
   "source": [
    "g.in_edges(racrodict['PrLosAm'])"
   ]
  },
  {
   "cell_type": "code",
   "execution_count": 280,
   "metadata": {},
   "outputs": [
    {
     "data": {
      "text/plain": [
       "[(1823,\n",
       "  'Related Definitions The \"Senior Reduction Amount\" with respect to any Payment Date and Loan Group is either: (A) if any of the Minimum Credit Enhancement Test and the Delinquency Test for such Loan Group is not satisfied, the sum of: (i) the Senior Percentage of the Scheduled Principal for such Payment Date and Loan Group; (ii) 100% of the Unscheduled Principal for such Payment Date and Loan Group; and (iii) 100% of the Recovery Principal for such Payment Date and Loan Group; or (B) if the Minimum Credit Enhancement Test and the Delinquency Test for such Loan Group are satisfied, the sum of: (i) the Senior Percentage of the Scheduled Principal for such Payment Date and Loan Group; (ii) the Senior Percentage of the Unscheduled Principal for such Payment Date and Loan Group; and (iii) 100% of the Recovery Principal for such Payment Date and Loan Group.')]"
      ]
     },
     "execution_count": 280,
     "metadata": {},
     "output_type": "execute_result"
    }
   ],
   "source": [
    "termdict['Senior Reduction Amount']"
   ]
  },
  {
   "cell_type": "markdown",
   "metadata": {},
   "source": [
    "# Scraps"
   ]
  },
  {
   "cell_type": "code",
   "execution_count": null,
   "metadata": {
    "collapsed": true
   },
   "outputs": [],
   "source": [
    "def decf(f,cum,num=2):\n",
    "    def f_(term,cum = cum,num=num,it=0,g=g,dct = termdict):\n",
    "        print('starting')\n",
    "        cum = f(term,cum=cum, g=g,dct=dct)\n",
    "        if it <=num:\n",
    "            for inedge in g.in_edges(term):\n",
    "                print(inedge[0])\n",
    "                cum = f_(inedge[0],cum=cum,num=num,it=it+1,dct=dct)\n",
    "    return f_,cum"
   ]
  },
  {
   "cell_type": "code",
   "execution_count": null,
   "metadata": {
    "collapsed": true
   },
   "outputs": [],
   "source": [
    "if 0: # writing a dictionary: execute by replace 0 with 1\n",
    "    with open(term+'_dict.txt','w') as f:\n",
    "        for dfn in termdict[term]: f.write(': '.join((gutils.acro(term),term,' ')) + dfn[1]+'\\n')\n",
    "        for tab,k in ar:\n",
    "            for dfn in termdict[k]:\n",
    "                f.write(''.join(('\\t'*(tab+1),': '.join((gutils.acro(k), k,dfn[1])),'\\n')))\n",
    "\n",
    "#How to make a tentative formula, for editing and encoding\n",
    "get_formula = lambda term,line=False,g=g: dlm[0].join((gutils.acro(term),'['+term+']')) + dlm[0] +'('+ dlm[1].join((gutils.acro(edge[0]) \n",
    "                                                        for edge in g.in_edges(term)) )+')'+ (\"\\n\" if line else '')\n",
    "get_formula(term,1)\n",
    "\n",
    "termprint = lambda s,it: print('\\t'*it,s) # How to indent and then print\n",
    "\n",
    "def write2defs(term,proc,num = 1,it = 0, g=g):\n",
    "    proc(get_formula(term,1,g),it)\n",
    "    if it <= num:\n",
    "        for edge in g.in_edges(term): write2defs(edge[0],proc,num=num,it = it+1,g=g)\n",
    "\n",
    "def write2stream(term,proc2stream,proc2string,num = 1,it = 0, g=g):\n",
    "    proc2stream(proc2string(term,1,g),it)\n",
    "    if it <= num:\n",
    "        for edge in g.in_edges(term): write2defs(edge[0],proc,num=num,it = it+1,g=g)\n",
    "\n",
    "with open(term+'_formula_test.txt','w') as f:\n",
    "    fileprint = lambda s,it: f.write('\\t'*it + s)\n",
    "    write2stream(term,fileprint,get_formula)      \n",
    "\n",
    "with open(term+'_termdict.txt','w') as f:\n",
    "    fileprint = lambda s,it: f.write('\\t'*it + s)\n",
    "    write2defs(term,fileprint)      \n",
    "\n",
    "term,termdict[term]"
   ]
  },
  {
   "cell_type": "code",
   "execution_count": null,
   "metadata": {
    "collapsed": true
   },
   "outputs": [],
   "source": []
  },
  {
   "cell_type": "code",
   "execution_count": null,
   "metadata": {
    "collapsed": true
   },
   "outputs": [],
   "source": [
    "ar = []\n",
    "def f(term,cum = [], g=g,dct=termdict):\n",
    "    cum.append(get_def(term))\n",
    "    print(cum)\n",
    "    return cum\n",
    "f(term)\n",
    "#ar,term\n",
    "\n",
    "h,cum = decf(f,cum = [])\n",
    "\n",
    "ar\n",
    "\n",
    "with open(term+'_termdict_test.txt','w') as f:\n",
    "    fileprint = lambda s,it: f.write('\\t'*it + s)\n",
    "    write2defs(term,fileprint)      \n",
    "\n",
    "\n",
    "\n",
    "g.in_edges(\"Principal Recovery Amount\")"
   ]
  },
  {
   "cell_type": "code",
   "execution_count": 103,
   "metadata": {},
   "outputs": [
    {
     "name": "stdout",
     "output_type": "stream",
     "text": [
      "[0]\n",
      "[0, 1]\n",
      "[0, 1, 2]\n"
     ]
    }
   ],
   "source": [
    "# caching\n",
    "def f(x, y = []):\n",
    "    y.append(x)\n",
    "    print(y)\n",
    "for i in range(3):f(i)"
   ]
  },
  {
   "cell_type": "code",
   "execution_count": null,
   "metadata": {
    "collapsed": true
   },
   "outputs": [],
   "source": [
    "# decorate a function with an accumulator\n",
    "# control the number of recursion with limit = num\n",
    "# include a function newargs_ for generating new arguments from the old args\n",
    "def decf(f,newargs_,cum = None,num=2, it = 0):\n",
    "    cum = cum or [] # cum is the accumulation of the recursion\n",
    "    def f_(*args,num=num,it=it):\n",
    "        #print('args',args) # DEBUG\n",
    "        cum.append(f(*args)) # cache the result of f applied to the arguments\n",
    "        if it <= num: # recurse if under the limit\n",
    "            newargs = newargs_(*args)\n",
    "            for args in newargs:\n",
    "                f_(*args,num=num,it=it+1)\n",
    "    return f_,cum\n",
    "func,cum = decf(lambda x: x, lambda x: ([x+1],))\n",
    "print(cum) # empty\n",
    "func(0)\n",
    "print(cum )\n",
    "func(0)\n",
    "print(cum)\n",
    "decf(None,None,cum=None)\n",
    "print(cum)"
   ]
  }
 ],
 "metadata": {
  "kernelspec": {
   "display_name": "Python 3",
   "language": "python",
   "name": "python3"
  },
  "language_info": {
   "codemirror_mode": {
    "name": "ipython",
    "version": 3
   },
   "file_extension": ".py",
   "mimetype": "text/x-python",
   "name": "python",
   "nbconvert_exporter": "python",
   "pygments_lexer": "ipython3",
   "version": "3.6.10"
  },
  "toc": {
   "base_numbering": 1,
   "nav_menu": {},
   "number_sections": true,
   "sideBar": true,
   "skip_h1_title": false,
   "title_cell": "Table of Contents",
   "title_sidebar": "Contents",
   "toc_cell": false,
   "toc_position": {
    "height": "calc(100% - 180px)",
    "left": "10px",
    "top": "150px",
    "width": "224px"
   },
   "toc_section_display": true,
   "toc_window_display": true
  }
 },
 "nbformat": 4,
 "nbformat_minor": 2
}
